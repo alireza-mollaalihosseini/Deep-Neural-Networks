{
 "cells": [
  {
   "cell_type": "markdown",
   "metadata": {
    "id": "qcz0C-r6YIAV"
   },
   "source": [
    "Report of HomeWork1 : Supervised Deep Learning\n",
    "\n",
    "tasks:\n",
    "1. Implement basic regression and classification tasks\n",
    "2. Explore advanced optimizers and regularization methods\n",
    "3. Implement CNN for classification task\n",
    "4. Visualize weight histograms, activation profiles and receptive fields\n",
    "\n",
    "Regression task:\n",
    "\n",
    "First I had to download the data. The data contained 100 points with their respective labels. I had to use some functions to change csv file to Dataloaders which are required inputs for pytorch networks. based on the data, the batch size and number of epoches was set to 18 and 500 respectively.\n",
    "\n",
    "Then I implement a simple network with 2 hidden layers which first layer has 64 neurons and second one has 128 neurons. The performance of the network on training and validation data was plotted afterwards.(I split the training data to train and validation parts where the new training size was 80 percent of the previous one). The average test accuracy was 92 percent.\n",
    "\n",
    "The next step was to tune the hyperparamets. Hence I used Optuna for this task. In order to use Optuna, one needs to define a model as trial and the parameters that wanted to be tuned(parameters were namely: number of hidden layers, number of neurons in each hidden layer, dropout rate, best optimizer method, learning rate and regularization rate).\n",
    "\n",
    "Then best hyperparameters founded by optuna used in a deep network with mean squared loss function(since the task is regression) and the accuracy of the network was computed with K-fold Cross_Validation method(Average accuracy was 60 percent)\n",
    "\n",
    "The last step was to show how the network was learned in each layer by ploting the histogram of weights of different layers.\n",
    "\n",
    "\n",
    "Classification task: \n",
    "\n",
    "First I needed to download the data(which were Fashion minist dataset), transfer them to tensors and prepare them for pytorch neural networks(make Dataloaders). There are 60000 pictures of 28*28 frame for training and 10000 for test with 10 different classes. The number of epoch and batch size were set to 20 and 256 respectively.\n",
    "\n",
    "Then I defined a simple neural network to classify the data which its accuracy was 70%.\n",
    "\n",
    "After that I used Optuna to find the best hyperparameters for classification task. The procedure was similar to the regression part.\n",
    "\n",
    "Next step was to use hyperparameters of the best model and implement another network for classification with negative log likelihood loss function(since the task is classification) and using Cross-Validation method for finding the accuracy of the model which it was 98% on average.\n",
    "\n",
    "Last step was to used weights of the layers of the model to show the histogram of them and visualize how the network was learned.\n",
    "\n",
    "Classification with CNN:\n",
    "\n",
    "In this task I only needed to implement a CNN (convolutional neural network) and use the classification's data and find the accuracy of this model with Cross_Validation method which was 65%.\n"
   ]
  },
  {
   "cell_type": "code",
   "execution_count": 15,
   "metadata": {
    "colab": {
     "base_uri": "https://localhost:8080/"
    },
    "id": "YTXbuw3ThqL2",
    "outputId": "6e4bd91c-e37c-4589-f664-eee466910631"
   },
   "outputs": [
    {
     "name": "stdout",
     "output_type": "stream",
     "text": [
      "Looking in indexes: https://pypi.org/simple, https://us-python.pkg.dev/colab-wheels/public/simple/\n",
      "Requirement already satisfied: optuna in /usr/local/lib/python3.7/dist-packages (2.10.1)\n",
      "Requirement already satisfied: sqlalchemy>=1.1.0 in /usr/local/lib/python3.7/dist-packages (from optuna) (1.4.37)\n",
      "Requirement already satisfied: numpy in /usr/local/lib/python3.7/dist-packages (from optuna) (1.21.6)\n",
      "Requirement already satisfied: PyYAML in /usr/local/lib/python3.7/dist-packages (from optuna) (3.13)\n",
      "Requirement already satisfied: tqdm in /usr/local/lib/python3.7/dist-packages (from optuna) (4.64.0)\n",
      "Requirement already satisfied: scipy!=1.4.0 in /usr/local/lib/python3.7/dist-packages (from optuna) (1.4.1)\n",
      "Requirement already satisfied: cmaes>=0.8.2 in /usr/local/lib/python3.7/dist-packages (from optuna) (0.8.2)\n",
      "Requirement already satisfied: cliff in /usr/local/lib/python3.7/dist-packages (from optuna) (3.10.1)\n",
      "Requirement already satisfied: alembic in /usr/local/lib/python3.7/dist-packages (from optuna) (1.8.0)\n",
      "Requirement already satisfied: colorlog in /usr/local/lib/python3.7/dist-packages (from optuna) (6.6.0)\n",
      "Requirement already satisfied: packaging>=20.0 in /usr/local/lib/python3.7/dist-packages (from optuna) (21.3)\n",
      "Requirement already satisfied: pyparsing!=3.0.5,>=2.0.2 in /usr/local/lib/python3.7/dist-packages (from packaging>=20.0->optuna) (3.0.9)\n",
      "Requirement already satisfied: greenlet!=0.4.17 in /usr/local/lib/python3.7/dist-packages (from sqlalchemy>=1.1.0->optuna) (1.1.2)\n",
      "Requirement already satisfied: importlib-metadata in /usr/local/lib/python3.7/dist-packages (from sqlalchemy>=1.1.0->optuna) (4.11.4)\n",
      "Requirement already satisfied: importlib-resources in /usr/local/lib/python3.7/dist-packages (from alembic->optuna) (5.7.1)\n",
      "Requirement already satisfied: Mako in /usr/local/lib/python3.7/dist-packages (from alembic->optuna) (1.2.1)\n",
      "Requirement already satisfied: PrettyTable>=0.7.2 in /usr/local/lib/python3.7/dist-packages (from cliff->optuna) (3.3.0)\n",
      "Requirement already satisfied: cmd2>=1.0.0 in /usr/local/lib/python3.7/dist-packages (from cliff->optuna) (2.4.1)\n",
      "Requirement already satisfied: stevedore>=2.0.1 in /usr/local/lib/python3.7/dist-packages (from cliff->optuna) (3.5.0)\n",
      "Requirement already satisfied: autopage>=0.4.0 in /usr/local/lib/python3.7/dist-packages (from cliff->optuna) (0.5.1)\n",
      "Requirement already satisfied: pbr!=2.1.0,>=2.0.0 in /usr/local/lib/python3.7/dist-packages (from cliff->optuna) (5.9.0)\n",
      "Requirement already satisfied: typing-extensions in /usr/local/lib/python3.7/dist-packages (from cmd2>=1.0.0->cliff->optuna) (4.1.1)\n",
      "Requirement already satisfied: wcwidth>=0.1.7 in /usr/local/lib/python3.7/dist-packages (from cmd2>=1.0.0->cliff->optuna) (0.2.5)\n",
      "Requirement already satisfied: pyperclip>=1.6 in /usr/local/lib/python3.7/dist-packages (from cmd2>=1.0.0->cliff->optuna) (1.8.2)\n",
      "Requirement already satisfied: attrs>=16.3.0 in /usr/local/lib/python3.7/dist-packages (from cmd2>=1.0.0->cliff->optuna) (21.4.0)\n",
      "Requirement already satisfied: zipp>=0.5 in /usr/local/lib/python3.7/dist-packages (from importlib-metadata->sqlalchemy>=1.1.0->optuna) (3.8.0)\n",
      "Requirement already satisfied: MarkupSafe>=0.9.2 in /usr/local/lib/python3.7/dist-packages (from Mako->alembic->optuna) (2.0.1)\n"
     ]
    }
   ],
   "source": [
    "! pip install optuna\n",
    "import os\n",
    "import torch\n",
    "import random\n",
    "import optuna\n",
    "import torchvision\n",
    "import numpy as np\n",
    "import pandas as pd\n",
    "import torch.nn as nn\n",
    "import torch.optim as optim\n",
    "import torch.nn.functional as F\n",
    "import matplotlib.pyplot as plt\n",
    "from torchvision import transforms\n",
    "from optuna.trial import TrialState\n",
    "from sklearn.model_selection import KFold\n",
    "from sklearn.model_selection import StratifiedKFold\n",
    "from sklearn.model_selection import train_test_split\n",
    "from optuna.integration import PyTorchLightningPruningCallback\n",
    "from torch.utils.data import Dataset, DataLoader, random_split, TensorDataset, ConcatDataset, SubsetRandomSampler"
   ]
  },
  {
   "cell_type": "markdown",
   "metadata": {
    "id": "o8icr_lZhrHt"
   },
   "source": [
    "Regression task"
   ]
  },
  {
   "cell_type": "code",
   "execution_count": 16,
   "metadata": {
    "colab": {
     "base_uri": "https://localhost:8080/"
    },
    "id": "wI3PyGB4h682",
    "outputId": "1ab26fd4-3d26-4d05-bb4a-361fd7f73668"
   },
   "outputs": [
    {
     "data": {
      "text/plain": [
       "<torch._C.Generator at 0x7fec405c3b30>"
      ]
     },
     "execution_count": 16,
     "metadata": {},
     "output_type": "execute_result"
    }
   ],
   "source": [
    "DEVICE = torch.device(\"cuda\") if torch.cuda.is_available() else torch.device(\"cpu\")\n",
    "batch_size = 18\n",
    "num_epochs = 250\n",
    "random.seed(0)\n",
    "np.random.seed(0)\n",
    "torch.manual_seed(0)"
   ]
  },
  {
   "cell_type": "code",
   "execution_count": null,
   "metadata": {
    "colab": {
     "base_uri": "https://localhost:8080/"
    },
    "id": "G8Y9H2jPYCfb",
    "outputId": "61abf371-fe5f-4408-bca1-4551ebebbd92"
   },
   "outputs": [
    {
     "name": "stdout",
     "output_type": "stream",
     "text": [
      "--2022-07-05 14:42:32--  https://gitlab.dei.unipd.it/michieli/nnld-2021-22-lab-resources/-/raw/main/homework1/train_data.csv\n",
      "Resolving gitlab.dei.unipd.it (gitlab.dei.unipd.it)... 147.162.2.85\n",
      "Connecting to gitlab.dei.unipd.it (gitlab.dei.unipd.it)|147.162.2.85|:443... connected.\n",
      "HTTP request sent, awaiting response... 200 OK\n",
      "Length: 3776 (3.7K) [text/plain]\n",
      "Saving to: ‘regression_dataset/train_data.csv.5’\n",
      "\n",
      "train_data.csv.5    100%[===================>]   3.69K  --.-KB/s    in 0s      \n",
      "\n",
      "2022-07-05 14:42:33 (68.9 MB/s) - ‘regression_dataset/train_data.csv.5’ saved [3776/3776]\n",
      "\n",
      "--2022-07-05 14:42:33--  https://gitlab.dei.unipd.it/michieli/nnld-2021-22-lab-resources/-/raw/main/homework1/test_data.csv\n",
      "Resolving gitlab.dei.unipd.it (gitlab.dei.unipd.it)... 147.162.2.85\n",
      "Connecting to gitlab.dei.unipd.it (gitlab.dei.unipd.it)|147.162.2.85|:443... connected.\n",
      "HTTP request sent, awaiting response... 200 OK\n",
      "Length: 3788 (3.7K) [text/plain]\n",
      "Saving to: ‘regression_dataset/test_data.csv.5’\n",
      "\n",
      "test_data.csv.5     100%[===================>]   3.70K  --.-KB/s    in 0s      \n",
      "\n",
      "2022-07-05 14:42:33 (81.9 MB/s) - ‘regression_dataset/test_data.csv.5’ saved [3788/3788]\n",
      "\n"
     ]
    }
   ],
   "source": [
    "# download CSV data\n",
    "!wget -P regression_dataset https://gitlab.dei.unipd.it/michieli/nnld-2021-22-lab-resources/-/raw/main/homework1/train_data.csv\n",
    "!wget -P regression_dataset https://gitlab.dei.unipd.it/michieli/nnld-2021-22-lab-resources/-/raw/main/homework1/test_data.csv"
   ]
  },
  {
   "cell_type": "code",
   "execution_count": 17,
   "metadata": {
    "id": "ruJAdfFEh_gW"
   },
   "outputs": [],
   "source": [
    "# This class reads csv files and makes necessary requirements for DataLoader in pytorch\n",
    "\n",
    "class CsvDataset(Dataset):\n",
    "\n",
    "    def __init__(self, csv_file, transform=None):\n",
    "        \"\"\"\n",
    "        Args:\n",
    "            csv_file (string): Path to the csv file.\n",
    "            transform (callable, optional): Optional transform to be applied\n",
    "                on a sample.\n",
    "        \"\"\"\n",
    "        self.transform = transform\n",
    "        # Read the file and split the lines in a list\n",
    "        with open(csv_file, 'r') as f:\n",
    "            lines = f.read().split('\\n')\n",
    "            lines.pop(0)\n",
    "            if lines[-1] == '':\n",
    "              lines.pop(-1)\n",
    "        # Get x and y values from each line and append to self.data\n",
    "        self.data = []\n",
    "        for line in lines:\n",
    "            sample = line.split(',')\n",
    "            if sample[0] == 'input' or sample[1] == 'label':\n",
    "              continue\n",
    "            else:\n",
    "              self.data.append((float(sample[0]), float(sample[1])))\n",
    "        # Now self.data contains all our dataset.\n",
    "        # Each element of the list self.data is a tuple: (input, output)\n",
    "\n",
    "    def __len__(self):\n",
    "        # The length of the dataset is simply the length of the self.data list\n",
    "        return len(self.data)\n",
    "\n",
    "    def __getitem__(self, idx):\n",
    "        # Our sample is the element idx of the list self.data\n",
    "        sample = self.data[idx]\n",
    "        if self.transform:\n",
    "            sample = self.transform(sample)\n",
    "        return sample"
   ]
  },
  {
   "cell_type": "code",
   "execution_count": 18,
   "metadata": {
    "id": "1kKK5DuQh_jc"
   },
   "outputs": [],
   "source": [
    "# this class returns data as pytorch tensors\n",
    "\n",
    "class ToTensor(object):\n",
    "    \"\"\"Convert sample to Tensors.\"\"\"\n",
    "\n",
    "    def __call__(self, sample):\n",
    "        x, y = sample\n",
    "        return (torch.tensor([x]).float(),\n",
    "                torch.tensor([y]).float())"
   ]
  },
  {
   "cell_type": "code",
   "execution_count": 19,
   "metadata": {
    "id": "oxmbMLG1h_m_"
   },
   "outputs": [],
   "source": [
    "# this function will get the csv file and change it to pytorch DataLoader for training\n",
    "\n",
    "composed_transform = transforms.Compose([ToTensor()])\n",
    "\n",
    "def get_data():\n",
    "\n",
    "  # Convert Data to TensorDataset\n",
    "  train_dataset = CsvDataset('regression_dataset/train_data.csv', transform= composed_transform)\n",
    "\n",
    "  train_dataset , val_dataset = train_test_split(train_dataset, test_size= 0.2, shuffle= True, random_state= 42)\n",
    "  \n",
    "  test_dataset = CsvDataset('regression_dataset/test_data.csv' , transform= composed_transform)\n",
    "\n",
    "  # Make a DataLoader for The Network\n",
    "  train_dataloader = DataLoader( train_dataset, batch_size= batch_size, shuffle=True, num_workers= 2)\n",
    "  test_dataloader  = DataLoader( test_dataset, batch_size=len(test_dataset), shuffle=False, num_workers= 2)\n",
    "  val_dataloader   = DataLoader( val_dataset, batch_size=len(val_dataset), shuffle=False, num_workers= 2)\n",
    "\n",
    "  return train_dataloader, val_dataloader, test_dataloader"
   ]
  },
  {
   "cell_type": "code",
   "execution_count": 20,
   "metadata": {
    "colab": {
     "base_uri": "https://localhost:8080/"
    },
    "id": "DYo2omGviSK1",
    "outputId": "21d9b1f9-b5ba-4254-89af-af98316ee1a3"
   },
   "outputs": [
    {
     "name": "stdout",
     "output_type": "stream",
     "text": [
      "Epoch: 1/250.. Training loss: 9.182.. Validation Accuracy: -585.784\n",
      "Epoch: 2/250.. Training loss: 5.757.. Validation Accuracy: -324.082\n",
      "Epoch: 3/250.. Training loss: 3.776.. Validation Accuracy: -171.776\n",
      "Epoch: 4/250.. Training loss: 3.121.. Validation Accuracy: -113.281\n",
      "Epoch: 5/250.. Training loss: 3.120.. Validation Accuracy: -96.366\n",
      "Epoch: 6/250.. Training loss: 3.476.. Validation Accuracy: -86.819\n",
      "Epoch: 7/250.. Training loss: 2.899.. Validation Accuracy: -76.840\n",
      "Epoch: 8/250.. Training loss: 2.807.. Validation Accuracy: -76.357\n",
      "Epoch: 9/250.. Training loss: 2.732.. Validation Accuracy: -72.069\n",
      "Epoch: 10/250.. Training loss: 2.540.. Validation Accuracy: -63.158\n",
      "Epoch: 11/250.. Training loss: 2.439.. Validation Accuracy: -58.287\n",
      "Epoch: 12/250.. Training loss: 2.343.. Validation Accuracy: -49.654\n",
      "Epoch: 13/250.. Training loss: 2.338.. Validation Accuracy: -41.731\n",
      "Epoch: 14/250.. Training loss: 2.338.. Validation Accuracy: -35.395\n",
      "Epoch: 15/250.. Training loss: 2.195.. Validation Accuracy: -24.239\n",
      "Epoch: 16/250.. Training loss: 2.603.. Validation Accuracy: -19.373\n",
      "Epoch: 17/250.. Training loss: 2.247.. Validation Accuracy: -19.154\n",
      "Epoch: 18/250.. Training loss: 2.074.. Validation Accuracy: -16.189\n",
      "Epoch: 19/250.. Training loss: 2.119.. Validation Accuracy: -15.736\n",
      "Epoch: 20/250.. Training loss: 2.062.. Validation Accuracy: -13.660\n",
      "Epoch: 21/250.. Training loss: 1.908.. Validation Accuracy: -15.170\n",
      "Epoch: 22/250.. Training loss: 2.061.. Validation Accuracy: -14.590\n",
      "Epoch: 23/250.. Training loss: 2.023.. Validation Accuracy: -8.110\n",
      "Epoch: 24/250.. Training loss: 1.942.. Validation Accuracy: -0.388\n",
      "Epoch: 25/250.. Training loss: 1.914.. Validation Accuracy: 4.393\n",
      "Epoch: 26/250.. Training loss: 2.297.. Validation Accuracy: 2.308\n",
      "Epoch: 27/250.. Training loss: 1.867.. Validation Accuracy: 2.605\n",
      "Epoch: 28/250.. Training loss: 1.867.. Validation Accuracy: 0.370\n",
      "Epoch: 29/250.. Training loss: 1.740.. Validation Accuracy: 2.555\n",
      "Epoch: 30/250.. Training loss: 1.715.. Validation Accuracy: 0.440\n",
      "Epoch: 31/250.. Training loss: 1.655.. Validation Accuracy: 3.349\n",
      "Epoch: 32/250.. Training loss: 1.725.. Validation Accuracy: 6.723\n",
      "Epoch: 33/250.. Training loss: 1.678.. Validation Accuracy: 4.965\n",
      "Epoch: 34/250.. Training loss: 1.732.. Validation Accuracy: 9.811\n",
      "Epoch: 35/250.. Training loss: 1.696.. Validation Accuracy: 6.756\n",
      "Epoch: 36/250.. Training loss: 1.678.. Validation Accuracy: 9.580\n",
      "Epoch: 37/250.. Training loss: 1.971.. Validation Accuracy: 10.207\n",
      "Epoch: 38/250.. Training loss: 1.600.. Validation Accuracy: 1.277\n",
      "Epoch: 39/250.. Training loss: 1.589.. Validation Accuracy: 1.987\n",
      "Epoch: 40/250.. Training loss: 1.590.. Validation Accuracy: 9.853\n",
      "Epoch: 41/250.. Training loss: 1.478.. Validation Accuracy: 11.169\n",
      "Epoch: 42/250.. Training loss: 1.523.. Validation Accuracy: 12.502\n",
      "Epoch: 43/250.. Training loss: 1.556.. Validation Accuracy: 9.176\n",
      "Epoch: 44/250.. Training loss: 1.507.. Validation Accuracy: 11.750\n",
      "Epoch: 45/250.. Training loss: 1.470.. Validation Accuracy: 12.058\n",
      "Epoch: 46/250.. Training loss: 1.461.. Validation Accuracy: 18.465\n",
      "Epoch: 47/250.. Training loss: 1.474.. Validation Accuracy: 22.566\n",
      "Epoch: 48/250.. Training loss: 1.605.. Validation Accuracy: 23.824\n",
      "Epoch: 49/250.. Training loss: 1.356.. Validation Accuracy: 17.249\n",
      "Epoch: 50/250.. Training loss: 1.337.. Validation Accuracy: 10.007\n",
      "Epoch: 51/250.. Training loss: 1.393.. Validation Accuracy: 8.970\n",
      "Epoch: 52/250.. Training loss: 1.352.. Validation Accuracy: 17.211\n",
      "Epoch: 53/250.. Training loss: 1.316.. Validation Accuracy: 24.250\n",
      "Epoch: 54/250.. Training loss: 1.333.. Validation Accuracy: 27.943\n",
      "Epoch: 55/250.. Training loss: 1.319.. Validation Accuracy: 24.772\n",
      "Epoch: 56/250.. Training loss: 1.204.. Validation Accuracy: 18.498\n",
      "Epoch: 57/250.. Training loss: 1.267.. Validation Accuracy: 26.245\n",
      "Epoch: 58/250.. Training loss: 1.159.. Validation Accuracy: 25.874\n",
      "Epoch: 59/250.. Training loss: 1.243.. Validation Accuracy: 30.190\n",
      "Epoch: 60/250.. Training loss: 1.126.. Validation Accuracy: 30.597\n",
      "Epoch: 61/250.. Training loss: 1.123.. Validation Accuracy: 27.651\n",
      "Epoch: 62/250.. Training loss: 1.116.. Validation Accuracy: 28.775\n",
      "Epoch: 63/250.. Training loss: 1.173.. Validation Accuracy: 34.352\n",
      "Epoch: 64/250.. Training loss: 1.137.. Validation Accuracy: 36.084\n",
      "Epoch: 65/250.. Training loss: 1.044.. Validation Accuracy: 34.305\n",
      "Epoch: 66/250.. Training loss: 1.078.. Validation Accuracy: 34.734\n",
      "Epoch: 67/250.. Training loss: 1.076.. Validation Accuracy: 34.002\n",
      "Epoch: 68/250.. Training loss: 1.227.. Validation Accuracy: 38.988\n",
      "Epoch: 69/250.. Training loss: 0.989.. Validation Accuracy: 34.737\n",
      "Epoch: 70/250.. Training loss: 1.058.. Validation Accuracy: 37.576\n",
      "Epoch: 71/250.. Training loss: 1.246.. Validation Accuracy: 39.414\n",
      "Epoch: 72/250.. Training loss: 0.949.. Validation Accuracy: 29.338\n",
      "Epoch: 73/250.. Training loss: 1.129.. Validation Accuracy: 35.220\n",
      "Epoch: 74/250.. Training loss: 0.979.. Validation Accuracy: 36.782\n",
      "Epoch: 75/250.. Training loss: 0.994.. Validation Accuracy: 43.771\n",
      "Epoch: 76/250.. Training loss: 0.936.. Validation Accuracy: 31.702\n",
      "Epoch: 77/250.. Training loss: 0.885.. Validation Accuracy: 41.305\n",
      "Epoch: 78/250.. Training loss: 1.101.. Validation Accuracy: 46.166\n",
      "Epoch: 79/250.. Training loss: 0.862.. Validation Accuracy: 39.728\n",
      "Epoch: 80/250.. Training loss: 0.870.. Validation Accuracy: 42.244\n",
      "Epoch: 81/250.. Training loss: 0.863.. Validation Accuracy: 42.871\n",
      "Epoch: 82/250.. Training loss: 0.837.. Validation Accuracy: 45.583\n",
      "Epoch: 83/250.. Training loss: 0.812.. Validation Accuracy: 43.496\n",
      "Epoch: 84/250.. Training loss: 0.789.. Validation Accuracy: 46.395\n",
      "Epoch: 85/250.. Training loss: 0.766.. Validation Accuracy: 49.025\n",
      "Epoch: 86/250.. Training loss: 0.827.. Validation Accuracy: 43.137\n",
      "Epoch: 87/250.. Training loss: 0.863.. Validation Accuracy: 45.875\n",
      "Epoch: 88/250.. Training loss: 0.713.. Validation Accuracy: 51.325\n",
      "Epoch: 89/250.. Training loss: 0.694.. Validation Accuracy: 51.616\n",
      "Epoch: 90/250.. Training loss: 0.731.. Validation Accuracy: 51.609\n",
      "Epoch: 91/250.. Training loss: 0.702.. Validation Accuracy: 50.923\n",
      "Epoch: 92/250.. Training loss: 0.725.. Validation Accuracy: 54.009\n",
      "Epoch: 93/250.. Training loss: 0.687.. Validation Accuracy: 54.158\n",
      "Epoch: 94/250.. Training loss: 0.612.. Validation Accuracy: 55.953\n",
      "Epoch: 95/250.. Training loss: 0.609.. Validation Accuracy: 56.220\n",
      "Epoch: 96/250.. Training loss: 0.763.. Validation Accuracy: 54.272\n",
      "Epoch: 97/250.. Training loss: 0.703.. Validation Accuracy: 52.561\n",
      "Epoch: 98/250.. Training loss: 0.726.. Validation Accuracy: 57.044\n",
      "Epoch: 99/250.. Training loss: 0.652.. Validation Accuracy: 52.679\n",
      "Epoch: 100/250.. Training loss: 0.608.. Validation Accuracy: 55.820\n",
      "Epoch: 101/250.. Training loss: 0.583.. Validation Accuracy: 59.106\n",
      "Epoch: 102/250.. Training loss: 0.529.. Validation Accuracy: 54.073\n",
      "Epoch: 103/250.. Training loss: 0.591.. Validation Accuracy: 59.509\n",
      "Epoch: 104/250.. Training loss: 0.642.. Validation Accuracy: 56.010\n",
      "Epoch: 105/250.. Training loss: 0.550.. Validation Accuracy: 56.817\n",
      "Epoch: 106/250.. Training loss: 0.579.. Validation Accuracy: 59.535\n",
      "Epoch: 107/250.. Training loss: 0.528.. Validation Accuracy: 60.325\n",
      "Epoch: 108/250.. Training loss: 0.543.. Validation Accuracy: 61.406\n",
      "Epoch: 109/250.. Training loss: 0.520.. Validation Accuracy: 59.435\n",
      "Epoch: 110/250.. Training loss: 0.553.. Validation Accuracy: 63.499\n",
      "Epoch: 111/250.. Training loss: 0.514.. Validation Accuracy: 61.572\n",
      "Epoch: 112/250.. Training loss: 0.523.. Validation Accuracy: 61.936\n",
      "Epoch: 113/250.. Training loss: 0.601.. Validation Accuracy: 64.220\n",
      "Epoch: 114/250.. Training loss: 0.503.. Validation Accuracy: 62.966\n",
      "Epoch: 115/250.. Training loss: 0.475.. Validation Accuracy: 65.351\n",
      "Epoch: 116/250.. Training loss: 0.500.. Validation Accuracy: 66.324\n",
      "Epoch: 117/250.. Training loss: 0.482.. Validation Accuracy: 64.415\n",
      "Epoch: 118/250.. Training loss: 0.452.. Validation Accuracy: 67.109\n",
      "Epoch: 119/250.. Training loss: 0.413.. Validation Accuracy: 66.568\n",
      "Epoch: 120/250.. Training loss: 0.430.. Validation Accuracy: 67.421\n",
      "Epoch: 121/250.. Training loss: 0.401.. Validation Accuracy: 65.575\n",
      "Epoch: 122/250.. Training loss: 0.520.. Validation Accuracy: 67.416\n",
      "Epoch: 123/250.. Training loss: 0.450.. Validation Accuracy: 62.228\n",
      "Epoch: 124/250.. Training loss: 0.467.. Validation Accuracy: 66.507\n",
      "Epoch: 125/250.. Training loss: 0.439.. Validation Accuracy: 68.937\n",
      "Epoch: 126/250.. Training loss: 0.440.. Validation Accuracy: 69.571\n",
      "Epoch: 127/250.. Training loss: 0.389.. Validation Accuracy: 69.544\n",
      "Epoch: 128/250.. Training loss: 0.438.. Validation Accuracy: 70.645\n",
      "Epoch: 129/250.. Training loss: 0.400.. Validation Accuracy: 69.670\n",
      "Epoch: 130/250.. Training loss: 0.416.. Validation Accuracy: 71.160\n",
      "Epoch: 131/250.. Training loss: 0.430.. Validation Accuracy: 70.463\n",
      "Epoch: 132/250.. Training loss: 0.432.. Validation Accuracy: 65.604\n",
      "Epoch: 133/250.. Training loss: 0.440.. Validation Accuracy: 68.502\n",
      "Epoch: 134/250.. Training loss: 0.455.. Validation Accuracy: 68.184\n",
      "Epoch: 135/250.. Training loss: 0.507.. Validation Accuracy: 66.053\n",
      "Epoch: 136/250.. Training loss: 0.427.. Validation Accuracy: 67.432\n",
      "Epoch: 137/250.. Training loss: 0.388.. Validation Accuracy: 71.129\n",
      "Epoch: 138/250.. Training loss: 0.345.. Validation Accuracy: 71.383\n",
      "Epoch: 139/250.. Training loss: 0.357.. Validation Accuracy: 73.397\n",
      "Epoch: 140/250.. Training loss: 0.362.. Validation Accuracy: 72.205\n",
      "Epoch: 141/250.. Training loss: 0.349.. Validation Accuracy: 69.919\n",
      "Epoch: 142/250.. Training loss: 0.344.. Validation Accuracy: 72.332\n",
      "Epoch: 143/250.. Training loss: 0.348.. Validation Accuracy: 73.234\n",
      "Epoch: 144/250.. Training loss: 0.329.. Validation Accuracy: 71.272\n",
      "Epoch: 145/250.. Training loss: 0.314.. Validation Accuracy: 74.469\n",
      "Epoch: 146/250.. Training loss: 0.355.. Validation Accuracy: 74.238\n",
      "Epoch: 147/250.. Training loss: 0.392.. Validation Accuracy: 70.326\n",
      "Epoch: 148/250.. Training loss: 0.403.. Validation Accuracy: 67.461\n",
      "Epoch: 149/250.. Training loss: 0.330.. Validation Accuracy: 68.685\n",
      "Epoch: 150/250.. Training loss: 0.350.. Validation Accuracy: 73.128\n",
      "Epoch: 151/250.. Training loss: 0.334.. Validation Accuracy: 71.162\n",
      "Epoch: 152/250.. Training loss: 0.333.. Validation Accuracy: 73.087\n",
      "Epoch: 153/250.. Training loss: 0.318.. Validation Accuracy: 72.857\n",
      "Epoch: 154/250.. Training loss: 0.331.. Validation Accuracy: 75.215\n",
      "Epoch: 155/250.. Training loss: 0.311.. Validation Accuracy: 74.544\n",
      "Epoch: 156/250.. Training loss: 0.376.. Validation Accuracy: 71.113\n",
      "Epoch: 157/250.. Training loss: 0.333.. Validation Accuracy: 70.440\n",
      "Epoch: 158/250.. Training loss: 0.305.. Validation Accuracy: 72.382\n",
      "Epoch: 159/250.. Training loss: 0.293.. Validation Accuracy: 75.793\n",
      "Epoch: 160/250.. Training loss: 0.295.. Validation Accuracy: 75.596\n",
      "Epoch: 161/250.. Training loss: 0.289.. Validation Accuracy: 73.629\n",
      "Epoch: 162/250.. Training loss: 0.314.. Validation Accuracy: 72.162\n",
      "Epoch: 163/250.. Training loss: 0.318.. Validation Accuracy: 74.530\n",
      "Epoch: 164/250.. Training loss: 0.333.. Validation Accuracy: 74.631\n",
      "Epoch: 165/250.. Training loss: 0.401.. Validation Accuracy: 67.428\n",
      "Epoch: 166/250.. Training loss: 0.382.. Validation Accuracy: 65.166\n",
      "Epoch: 167/250.. Training loss: 0.324.. Validation Accuracy: 70.398\n",
      "Epoch: 168/250.. Training loss: 0.483.. Validation Accuracy: 72.666\n",
      "Epoch: 169/250.. Training loss: 0.341.. Validation Accuracy: 66.390\n",
      "Epoch: 170/250.. Training loss: 0.316.. Validation Accuracy: 67.104\n",
      "Epoch: 171/250.. Training loss: 0.351.. Validation Accuracy: 74.933\n",
      "Epoch: 172/250.. Training loss: 0.380.. Validation Accuracy: 72.577\n",
      "Epoch: 173/250.. Training loss: 0.317.. Validation Accuracy: 71.289\n",
      "Epoch: 174/250.. Training loss: 0.319.. Validation Accuracy: 72.325\n",
      "Epoch: 175/250.. Training loss: 0.263.. Validation Accuracy: 72.154\n",
      "Epoch: 176/250.. Training loss: 0.319.. Validation Accuracy: 74.854\n",
      "Epoch: 177/250.. Training loss: 0.282.. Validation Accuracy: 71.354\n",
      "Epoch: 178/250.. Training loss: 0.305.. Validation Accuracy: 74.103\n",
      "Epoch: 179/250.. Training loss: 0.293.. Validation Accuracy: 69.819\n",
      "Epoch: 180/250.. Training loss: 0.274.. Validation Accuracy: 71.339\n",
      "Epoch: 181/250.. Training loss: 0.319.. Validation Accuracy: 74.403\n",
      "Epoch: 182/250.. Training loss: 0.279.. Validation Accuracy: 73.362\n",
      "Epoch: 183/250.. Training loss: 0.278.. Validation Accuracy: 70.755\n",
      "Epoch: 184/250.. Training loss: 0.283.. Validation Accuracy: 73.793\n",
      "Epoch: 185/250.. Training loss: 0.256.. Validation Accuracy: 74.518\n",
      "Epoch: 186/250.. Training loss: 0.272.. Validation Accuracy: 74.074\n",
      "Epoch: 187/250.. Training loss: 0.269.. Validation Accuracy: 70.101\n",
      "Epoch: 188/250.. Training loss: 0.286.. Validation Accuracy: 74.647\n",
      "Epoch: 189/250.. Training loss: 0.270.. Validation Accuracy: 73.157\n",
      "Epoch: 190/250.. Training loss: 0.280.. Validation Accuracy: 73.563\n",
      "Epoch: 191/250.. Training loss: 0.279.. Validation Accuracy: 75.107\n",
      "Epoch: 192/250.. Training loss: 0.332.. Validation Accuracy: 74.684\n",
      "Epoch: 193/250.. Training loss: 0.269.. Validation Accuracy: 66.831\n",
      "Epoch: 194/250.. Training loss: 0.285.. Validation Accuracy: 71.107\n",
      "Epoch: 195/250.. Training loss: 0.325.. Validation Accuracy: 74.681\n",
      "Epoch: 196/250.. Training loss: 0.267.. Validation Accuracy: 64.231\n",
      "Epoch: 197/250.. Training loss: 0.313.. Validation Accuracy: 74.509\n",
      "Epoch: 198/250.. Training loss: 0.285.. Validation Accuracy: 73.564\n",
      "Epoch: 199/250.. Training loss: 0.290.. Validation Accuracy: 71.671\n",
      "Epoch: 200/250.. Training loss: 0.274.. Validation Accuracy: 73.740\n",
      "Epoch: 201/250.. Training loss: 0.312.. Validation Accuracy: 73.071\n",
      "Epoch: 202/250.. Training loss: 0.298.. Validation Accuracy: 73.673\n",
      "Epoch: 203/250.. Training loss: 0.287.. Validation Accuracy: 72.129\n",
      "Epoch: 204/250.. Training loss: 0.298.. Validation Accuracy: 73.291\n",
      "Epoch: 205/250.. Training loss: 0.327.. Validation Accuracy: 75.980\n",
      "Epoch: 206/250.. Training loss: 0.299.. Validation Accuracy: 69.387\n",
      "Epoch: 207/250.. Training loss: 0.292.. Validation Accuracy: 72.530\n",
      "Epoch: 208/250.. Training loss: 0.334.. Validation Accuracy: 73.598\n",
      "Epoch: 209/250.. Training loss: 0.270.. Validation Accuracy: 68.370\n",
      "Epoch: 210/250.. Training loss: 0.257.. Validation Accuracy: 75.621\n",
      "Epoch: 211/250.. Training loss: 0.277.. Validation Accuracy: 71.912\n",
      "Epoch: 212/250.. Training loss: 0.337.. Validation Accuracy: 72.018\n",
      "Epoch: 213/250.. Training loss: 0.291.. Validation Accuracy: 70.890\n",
      "Epoch: 214/250.. Training loss: 0.271.. Validation Accuracy: 69.145\n",
      "Epoch: 215/250.. Training loss: 0.295.. Validation Accuracy: 73.902\n",
      "Epoch: 216/250.. Training loss: 0.258.. Validation Accuracy: 74.996\n",
      "Epoch: 217/250.. Training loss: 0.264.. Validation Accuracy: 70.581\n",
      "Epoch: 218/250.. Training loss: 0.286.. Validation Accuracy: 72.284\n",
      "Epoch: 219/250.. Training loss: 0.337.. Validation Accuracy: 73.401\n",
      "Epoch: 220/250.. Training loss: 0.289.. Validation Accuracy: 68.668\n",
      "Epoch: 221/250.. Training loss: 0.287.. Validation Accuracy: 66.981\n",
      "Epoch: 222/250.. Training loss: 0.287.. Validation Accuracy: 71.253\n",
      "Epoch: 223/250.. Training loss: 0.320.. Validation Accuracy: 74.424\n",
      "Epoch: 224/250.. Training loss: 0.277.. Validation Accuracy: 70.952\n",
      "Epoch: 225/250.. Training loss: 0.308.. Validation Accuracy: 74.135\n",
      "Epoch: 226/250.. Training loss: 0.262.. Validation Accuracy: 73.318\n",
      "Epoch: 227/250.. Training loss: 0.284.. Validation Accuracy: 70.092\n",
      "Epoch: 228/250.. Training loss: 0.316.. Validation Accuracy: 73.107\n",
      "Epoch: 229/250.. Training loss: 0.323.. Validation Accuracy: 70.774\n",
      "Epoch: 230/250.. Training loss: 0.260.. Validation Accuracy: 71.167\n",
      "Epoch: 231/250.. Training loss: 0.270.. Validation Accuracy: 75.614\n",
      "Epoch: 232/250.. Training loss: 0.252.. Validation Accuracy: 72.469\n",
      "Epoch: 233/250.. Training loss: 0.250.. Validation Accuracy: 74.124\n",
      "Epoch: 234/250.. Training loss: 0.254.. Validation Accuracy: 74.115\n",
      "Epoch: 235/250.. Training loss: 0.288.. Validation Accuracy: 74.478\n",
      "Epoch: 236/250.. Training loss: 0.250.. Validation Accuracy: 73.047\n",
      "Epoch: 237/250.. Training loss: 0.244.. Validation Accuracy: 73.544\n",
      "Epoch: 238/250.. Training loss: 0.266.. Validation Accuracy: 73.774\n",
      "Epoch: 239/250.. Training loss: 0.266.. Validation Accuracy: 72.620\n",
      "Epoch: 240/250.. Training loss: 0.247.. Validation Accuracy: 71.514\n",
      "Epoch: 241/250.. Training loss: 0.256.. Validation Accuracy: 73.973\n",
      "Epoch: 242/250.. Training loss: 0.240.. Validation Accuracy: 70.649\n",
      "Epoch: 243/250.. Training loss: 0.261.. Validation Accuracy: 74.182\n",
      "Epoch: 244/250.. Training loss: 0.315.. Validation Accuracy: 74.504\n",
      "Epoch: 245/250.. Training loss: 0.372.. Validation Accuracy: 68.087\n",
      "Epoch: 246/250.. Training loss: 0.344.. Validation Accuracy: 71.712\n",
      "Epoch: 247/250.. Training loss: 0.268.. Validation Accuracy: 70.028\n",
      "Epoch: 248/250.. Training loss: 0.256.. Validation Accuracy: 73.256\n",
      "Epoch: 249/250.. Training loss: 0.270.. Validation Accuracy: 72.006\n",
      "Epoch: 250/250.. Training loss: 0.245.. Validation Accuracy: 75.271\n"
     ]
    }
   ],
   "source": [
    "# basic Regression network\n",
    "\n",
    "BRN = nn.Sequential(nn.Linear(in_features= 1, out_features= 64),\n",
    "                    nn.ReLU(),\n",
    "                    nn.Linear(in_features= 64, out_features= 128),\n",
    "                    nn.ReLU(),\n",
    "                    nn.Linear(in_features= 128, out_features= 1)\n",
    ")\n",
    "\n",
    "BRN.to(DEVICE)\n",
    "optimizer = optim.Adam(BRN.parameters(), lr = 1e-3, weight_decay= 1e-4)\n",
    "\n",
    "# get the dataset\n",
    "train_dataloader, val_dataloader, test_dataloader = get_data()\n",
    "\n",
    "# Training of the model.\n",
    "Acc = []\n",
    "train_loss_log = []\n",
    "val_loss_log = []\n",
    "for epoch in range(num_epochs):\n",
    "    train_loss= []\n",
    "    BRN.train()\n",
    "    for batch_idx, (data, target) in enumerate(train_dataloader):\n",
    "        data, target = data.to(DEVICE), target.to(DEVICE)\n",
    "        optimizer.zero_grad()\n",
    "        output = BRN(data)\n",
    "        loss = F.mse_loss(output, target)\n",
    "        loss.backward()\n",
    "        optimizer.step()\n",
    "        loss_batch = loss.detach().cpu().numpy()\n",
    "        train_loss.append(loss_batch)\n",
    "\n",
    "    train_loss_log.append(np.mean(train_loss))\n",
    "\n",
    "    # Validation of the model.\n",
    "    BRN.eval()\n",
    "    val_loss= []\n",
    "    with torch.no_grad():\n",
    "        for batch_idx, (data, target) in enumerate(val_dataloader):\n",
    "            data, target = data.to(DEVICE), target.to(DEVICE)\n",
    "            output = BRN(data)\n",
    "            loss = F.mse_loss(output, target)\n",
    "            loss_batch = loss.detach().cpu().numpy()\n",
    "            val_loss.append(loss_batch)\n",
    "\n",
    "        accuracy = ( 1 - np.mean(val_loss) ) * 100\n",
    "        val_loss_log.append(np.mean(val_loss))\n",
    "        print(\"Epoch: {}/{}..\".format(epoch+1, num_epochs),\n",
    "              \"Training loss: {:.3f}..\".format(np.mean(train_loss)),\n",
    "              \"Validation Accuracy: {:.3f}\".format(accuracy))"
   ]
  },
  {
   "cell_type": "code",
   "execution_count": 21,
   "metadata": {
    "colab": {
     "base_uri": "https://localhost:8080/",
     "height": 497
    },
    "id": "O8A7FIX4tf4r",
    "outputId": "e78d403c-96ec-4c61-bd41-39a04799fd0d"
   },
   "outputs": [
    {
     "data": {
      "image/png": "[encoded data removed]",
      "text/plain": [
       "<Figure size 864x576 with 1 Axes>"
      ]
     },
     "metadata": {
      "needs_background": "light"
     },
     "output_type": "display_data"
    }
   ],
   "source": [
    "# Plot losses\n",
    "plt.figure(figsize=(12,8))\n",
    "plt.semilogy(train_loss_log, label='Train loss')\n",
    "plt.semilogy(val_loss_log, label='Validation loss')\n",
    "plt.xlabel('Epoch')\n",
    "plt.ylabel('Loss')\n",
    "plt.grid()\n",
    "plt.legend()\n",
    "plt.show()"
   ]
  },
  {
   "cell_type": "code",
   "execution_count": 22,
   "metadata": {
    "colab": {
     "base_uri": "https://localhost:8080/"
    },
    "id": "yfzGwCzjwq-V",
    "outputId": "58e1c908-3f4b-4838-a5a9-426112e30690"
   },
   "outputs": [
    {
     "name": "stdout",
     "output_type": "stream",
     "text": [
      "AVERAGE TEST Accuracy: 84.91339111328125\n"
     ]
    }
   ],
   "source": [
    "# evaluate the accuracy of test dataset\n",
    "\n",
    "all_inputs = []\n",
    "all_outputs = []\n",
    "all_labels = []\n",
    "BRN.eval() # Evaluation mode\n",
    "with torch.no_grad():\n",
    "        for batch_idx, (data, target) in enumerate(test_dataloader):\n",
    "            data, target = data.to(DEVICE), target.to(DEVICE)\n",
    "            output = BRN(data)\n",
    "            all_inputs.append(data)\n",
    "            all_outputs.append(output)\n",
    "            all_labels.append(target)\n",
    "all_inputs  = torch.cat(all_inputs)\n",
    "all_outputs = torch.cat(all_outputs)\n",
    "all_labels  = torch.cat(all_labels)\n",
    "test_loss   = F.mse_loss(all_outputs, all_labels)\n",
    "print(f\"AVERAGE TEST Accuracy: {( 1 - test_loss ) * 100}\") "
   ]
  },
  {
   "cell_type": "markdown",
   "metadata": {
    "id": "AJOJqi4_zbnD"
   },
   "source": [
    "Optuna(tuning hyperparameters)"
   ]
  },
  {
   "cell_type": "code",
   "execution_count": 23,
   "metadata": {
    "id": "NYxCh-jqh_pk"
   },
   "outputs": [],
   "source": [
    "# this function will be used as trial model for the optuna to find the best hyperparameters\n",
    "\n",
    "def define_model(trial):\n",
    "    # We optimize the number of layers, hidden units and dropout ratio in each layer.\n",
    "    n_layers = trial.suggest_int(\"n_layers\", 1, 3)\n",
    "    layers = []\n",
    "\n",
    "    in_features = 1\n",
    "    for i in range(n_layers):\n",
    "        out_features = trial.suggest_int(\"n_units_l{}\".format(i), 64, 256, log=True)\n",
    "        layers.append(nn.Linear(in_features, out_features))\n",
    "        layers.append(nn.Tanh())\n",
    "        p = trial.suggest_float(\"dropout_l{}\".format(i), 0.2, 0.5)\n",
    "        layers.append(nn.Dropout(p))\n",
    "\n",
    "        in_features = out_features\n",
    "    layers.append(nn.Linear(in_features, 1))\n",
    "\n",
    "    return nn.Sequential(*layers)"
   ]
  },
  {
   "cell_type": "code",
   "execution_count": 24,
   "metadata": {
    "colab": {
     "base_uri": "https://localhost:8080/"
    },
    "id": "S-KxV__Lh_sl",
    "outputId": "4f4d5b54-5301-42b6-d9a8-b3e311d34321"
   },
   "outputs": [
    {
     "name": "stderr",
     "output_type": "stream",
     "text": [
      "\u001b[32m[I 2022-07-05 14:46:20,061]\u001b[0m A new study created in memory with name: Regression Task\u001b[0m\n",
      "\u001b[32m[I 2022-07-05 14:47:32,798]\u001b[0m Trial 0 finished with value: 0.3030879497528076 and parameters: {'n_layers': 3, 'n_units_l0': 65, 'dropout_l0': 0.3900944704778826, 'n_units_l1': 181, 'dropout_l1': 0.34955210369077716, 'n_units_l2': 87, 'dropout_l2': 0.2594188594278872, 'optimizer': 'Adam', 'lr': 0.005513651007120869, 'weight_decay': 0.06509886021509587}. Best is trial 0 with value: 0.3030879497528076.\u001b[0m\n",
      "\u001b[32m[I 2022-07-05 14:48:46,535]\u001b[0m Trial 1 finished with value: -1.073869228363037 and parameters: {'n_layers': 1, 'n_units_l0': 130, 'dropout_l0': 0.44378628849563406, 'optimizer': 'RMSprop', 'lr': 0.04689175530591104, 'weight_decay': 0.007216109813316294}. Best is trial 0 with value: 0.3030879497528076.\u001b[0m\n",
      "\u001b[32m[I 2022-07-05 14:50:00,985]\u001b[0m Trial 2 finished with value: 0.5734125971794128 and parameters: {'n_layers': 2, 'n_units_l0': 77, 'dropout_l0': 0.31200222801544075, 'n_units_l1': 163, 'dropout_l1': 0.3325499523268988, 'optimizer': 'RMSprop', 'lr': 0.003995661855958764, 'weight_decay': 0.0025360383322064173}. Best is trial 2 with value: 0.5734125971794128.\u001b[0m\n",
      "\u001b[32m[I 2022-07-05 14:51:18,658]\u001b[0m Trial 3 finished with value: 0.646752268075943 and parameters: {'n_layers': 3, 'n_units_l0': 132, 'dropout_l0': 0.4725946642426005, 'n_units_l1': 99, 'dropout_l1': 0.2271378047812722, 'n_units_l2': 97, 'dropout_l2': 0.23419530855906495, 'optimizer': 'Adam', 'lr': 0.0015500461319089488, 'weight_decay': 0.018929885308130206}. Best is trial 3 with value: 0.646752268075943.\u001b[0m\n",
      "\u001b[32m[I 2022-07-05 14:52:36,834]\u001b[0m Trial 4 finished with value: -0.7735327482223511 and parameters: {'n_layers': 1, 'n_units_l0': 210, 'dropout_l0': 0.3054957918296264, 'optimizer': 'SGD', 'lr': 0.00020046868950224618, 'weight_decay': 4.571551229239349e-05}. Best is trial 3 with value: 0.646752268075943.\u001b[0m\n",
      "\u001b[32m[I 2022-07-05 14:52:37,507]\u001b[0m Trial 5 pruned. \u001b[0m\n",
      "\u001b[32m[I 2022-07-05 14:52:37,826]\u001b[0m Trial 6 pruned. \u001b[0m\n",
      "\u001b[32m[I 2022-07-05 14:52:38,800]\u001b[0m Trial 7 pruned. \u001b[0m\n",
      "\u001b[32m[I 2022-07-05 14:54:02,630]\u001b[0m Trial 8 finished with value: 0.6317306160926819 and parameters: {'n_layers': 3, 'n_units_l0': 114, 'dropout_l0': 0.38167326931812706, 'n_units_l1': 130, 'dropout_l1': 0.3793509943888921, 'n_units_l2': 92, 'dropout_l2': 0.2902613926822122, 'optimizer': 'RMSprop', 'lr': 0.0016994670732385824, 'weight_decay': 0.0018282184168059736}. Best is trial 3 with value: 0.646752268075943.\u001b[0m\n",
      "\u001b[32m[I 2022-07-05 14:54:02,975]\u001b[0m Trial 9 pruned. \u001b[0m\n",
      "\u001b[32m[I 2022-07-05 14:54:03,324]\u001b[0m Trial 10 pruned. \u001b[0m\n",
      "\u001b[32m[I 2022-07-05 14:54:03,672]\u001b[0m Trial 11 pruned. \u001b[0m\n",
      "\u001b[32m[I 2022-07-05 14:55:28,565]\u001b[0m Trial 12 finished with value: 0.5176888406276703 and parameters: {'n_layers': 3, 'n_units_l0': 99, 'dropout_l0': 0.4972695199540614, 'n_units_l1': 110, 'dropout_l1': 0.2126767518639865, 'n_units_l2': 116, 'dropout_l2': 0.3232333419895817, 'optimizer': 'RMSprop', 'lr': 0.001514970984205587, 'weight_decay': 0.00039858438590010273}. Best is trial 3 with value: 0.646752268075943.\u001b[0m\n",
      "\u001b[32m[I 2022-07-05 14:55:28,915]\u001b[0m Trial 13 pruned. \u001b[0m\n",
      "\u001b[32m[I 2022-07-05 14:55:29,277]\u001b[0m Trial 14 pruned. \u001b[0m\n",
      "\u001b[32m[I 2022-07-05 14:55:29,640]\u001b[0m Trial 15 pruned. \u001b[0m\n",
      "\u001b[32m[I 2022-07-05 14:55:29,980]\u001b[0m Trial 16 pruned. \u001b[0m\n",
      "\u001b[32m[I 2022-07-05 14:55:32,067]\u001b[0m Trial 17 pruned. \u001b[0m\n",
      "\u001b[32m[I 2022-07-05 14:56:04,341]\u001b[0m Trial 18 pruned. \u001b[0m\n",
      "\u001b[32m[I 2022-07-05 14:56:04,704]\u001b[0m Trial 19 pruned. \u001b[0m\n",
      "\u001b[32m[I 2022-07-05 14:56:05,069]\u001b[0m Trial 20 pruned. \u001b[0m\n",
      "\u001b[32m[I 2022-07-05 14:56:05,439]\u001b[0m Trial 21 pruned. \u001b[0m\n",
      "\u001b[32m[I 2022-07-05 14:56:05,795]\u001b[0m Trial 22 pruned. \u001b[0m\n",
      "\u001b[32m[I 2022-07-05 14:56:06,518]\u001b[0m Trial 23 pruned. \u001b[0m\n",
      "\u001b[32m[I 2022-07-05 14:56:06,891]\u001b[0m Trial 24 pruned. \u001b[0m\n",
      "\u001b[32m[I 2022-07-05 14:56:08,990]\u001b[0m Trial 25 pruned. \u001b[0m\n",
      "\u001b[32m[I 2022-07-05 14:56:41,376]\u001b[0m Trial 26 pruned. \u001b[0m\n"
     ]
    },
    {
     "name": "stdout",
     "output_type": "stream",
     "text": [
      "Best trial:\n",
      "  Value:  0.646752268075943\n",
      "  Params: \n",
      "    n_layers: 3\n",
      "    n_units_l0: 132\n",
      "    dropout_l0: 0.4725946642426005\n",
      "    n_units_l1: 99\n",
      "    dropout_l1: 0.2271378047812722\n",
      "    n_units_l2: 97\n",
      "    dropout_l2: 0.23419530855906495\n",
      "    optimizer: Adam\n",
      "    lr: 0.0015500461319089488\n",
      "    weight_decay: 0.018929885308130206\n"
     ]
    }
   ],
   "source": [
    "# this function defines the optuna procedure and related hyperparameters\n",
    "\n",
    "def objective(trial):\n",
    "\n",
    "    # Generate the model.\n",
    "    model = define_model(trial).to(DEVICE)\n",
    "\n",
    "    # Generate the optimizers.\n",
    "    optimizer_name = trial.suggest_categorical(\"optimizer\", [\"Adam\", \"RMSprop\", \"SGD\"])\n",
    "    lr = trial.suggest_float(\"lr\", 1e-5, 1e-1, log=True)\n",
    "    weight_decay = trial.suggest_float(\"weight_decay\", 1e-5, 1e-1, log=True)\n",
    "    optimizer = getattr(optim, optimizer_name)(model.parameters(), lr=lr, weight_decay= weight_decay)\n",
    "\n",
    "    # get the dataset\n",
    "    train_dataloader, val_dataloader, _ = get_data()\n",
    "    # Training of the model.\n",
    "    for epoch in range(num_epochs):\n",
    "        model.train()\n",
    "        for batch_idx, (data, target) in enumerate(train_dataloader):\n",
    "            data, target = data.to(DEVICE), target.to(DEVICE)\n",
    "            optimizer.zero_grad()\n",
    "            output = model(data)\n",
    "            loss = F.mse_loss(output, target)\n",
    "            loss.backward()\n",
    "            optimizer.step()\n",
    "\n",
    "        # Validation of the model.\n",
    "        model.eval()\n",
    "        val_loss = []\n",
    "        with torch.no_grad():\n",
    "            for batch_idx, (data, target) in enumerate(val_dataloader):\n",
    "                data, target = data.to(DEVICE), target.to(DEVICE)\n",
    "                output = model(data)\n",
    "                loss = F.mse_loss(output, target)\n",
    "                loss_batch = loss.detach().cpu().numpy()\n",
    "                val_loss.append(loss_batch)\n",
    "\n",
    "        accuracy = ( 1 - np.mean(val_loss) )\n",
    "\n",
    "        trial.report(accuracy, epoch)\n",
    "\n",
    "        # Handle pruning based on the intermediate value.\n",
    "        if trial.should_prune():\n",
    "            raise optuna.exceptions.TrialPruned()\n",
    "\n",
    "    return accuracy\n",
    "\n",
    "\n",
    "if __name__ == \"__main__\":\n",
    "    sampler= optuna.samplers.TPESampler(seed=10)\n",
    "    study = optuna.create_study(study_name= \"Regression Task\",direction=\"maximize\", sampler= sampler)\n",
    "    study.optimize(objective, n_trials=300, timeout=600)\n",
    "\n",
    "    # pruned_trials = study.get_trials(deepcopy=False, states=[TrialState.PRUNED])\n",
    "    # complete_trials = study.get_trials(deepcopy=False, states=[TrialState.COMPLETE])\n",
    "    # \n",
    "    # print(\"Study statistics: \")\n",
    "    # print(\"  Number of finished trials: \", len(study.trials))\n",
    "    # print(\"  Number of pruned trials: \", len(pruned_trials))\n",
    "    # print(\"  Number of complete trials: \", len(complete_trials))\n",
    "\n",
    "    print(\"Best trial:\")\n",
    "    trial = study.best_trial\n",
    "\n",
    "    print(\"  Value: \", trial.value)\n",
    "\n",
    "    print(\"  Params: \")\n",
    "    for key, value in trial.params.items():\n",
    "        print(\"    {}: {}\".format(key, value))"
   ]
  },
  {
   "cell_type": "code",
   "execution_count": 25,
   "metadata": {
    "id": "o-iDlF2fh_vQ"
   },
   "outputs": [],
   "source": [
    "# Best Parameters found by optuna\n",
    "\n",
    "Ni = 1\n",
    "No = 1\n",
    "Nh1 = trial.params['n_units_l0']\n",
    "Nh2 = trial.params['n_units_l1']\n",
    "Nh3 = trial.params['n_units_l2']\n",
    "p0 = trial.params['dropout_l0']\n",
    "p1 = trial.params['dropout_l1']\n",
    "p2 = trial.params['dropout_l2']\n",
    "lr = trial.params['lr']\n",
    "weight_decay = trial.params['weight_decay']"
   ]
  },
  {
   "cell_type": "code",
   "execution_count": 26,
   "metadata": {
    "id": "0K0geBMLiADZ"
   },
   "outputs": [],
   "source": [
    "# this is the class of regression neural network with optimized parameters\n",
    "\n",
    "class Net(nn.Module):\n",
    "    \n",
    "    def __init__(self, Ni, Nh1, Nh2,Nh3 , No, p0, p1, p2):\n",
    "        \"\"\"\n",
    "        Ni - Input size\n",
    "        Nh1 - Neurons in the 1st hidden layer\n",
    "        Nh2 - Neurons in the 2nd hidden layer\n",
    "        No - Output size\n",
    "        \"\"\"\n",
    "        super().__init__()\n",
    "        \n",
    "        print('Network initialized')\n",
    "        self.fc1  = nn.Linear(in_features=Ni, out_features=Nh1)\n",
    "        self.fc2  = nn.Linear(in_features=Nh1, out_features=Nh2)\n",
    "        self.fc3  = nn.Linear(in_features=Nh2, out_features=Nh3)\n",
    "        self.out  = nn.Linear(in_features=Nh3, out_features=No)\n",
    "        self.act  = nn.ReLU()\n",
    "        self.drop1 = nn.Dropout(p0)\n",
    "        self.drop2 = nn.Dropout(p1)\n",
    "        self.drop3 = nn.Dropout(p2)\n",
    "        \n",
    "    def forward(self, x, additional_out=False):\n",
    "        x = self.act(self.fc1(x))\n",
    "        x = self.drop1(x)\n",
    "        x = self.act(self.fc2(x))\n",
    "        x = self.drop2(x)\n",
    "        x = self.act(self.fc3(x))\n",
    "        x = self.drop3(x)\n",
    "        x = self.out(x)\n",
    "        return x"
   ]
  },
  {
   "cell_type": "code",
   "execution_count": 27,
   "metadata": {
    "colab": {
     "base_uri": "https://localhost:8080/"
    },
    "id": "Qi3YwtyeiAF6",
    "outputId": "da006e7e-a343-4fde-ec4a-77c3533bd15d"
   },
   "outputs": [
    {
     "name": "stdout",
     "output_type": "stream",
     "text": [
      "Network initialized\n"
     ]
    }
   ],
   "source": [
    "# initializing the network\n",
    "\n",
    "net = Net(Ni,Nh1,Nh2,Nh3,No,p0,p1,p2).to(DEVICE)\n",
    "\n",
    "# loss function\n",
    "loss_fn = nn.MSELoss()\n",
    "# optimizer\n",
    "optimizer = optim.Adam(net.parameters(), lr = lr, weight_decay= weight_decay)"
   ]
  },
  {
   "cell_type": "code",
   "execution_count": 28,
   "metadata": {
    "id": "d8n44dapiAJN"
   },
   "outputs": [],
   "source": [
    "# this function change the csv files to DataLoaders for training the network\n",
    "\n",
    "def get_dataset():\n",
    "  # download CSV data\n",
    "  #!wget -P regression_dataset https://gitlab.dei.unipd.it/michieli/nnld-2021-22-lab-resources/-/raw/main/homework1/train_data.csv\n",
    "  #!wget -P regression_dataset https://gitlab.dei.unipd.it/michieli/nnld-2021-22-lab-resources/-/raw/main/homework1/test_data.csv\n",
    "  \n",
    "  # Convert Data to TensorDataset\n",
    "  train_dataset = CsvDataset('regression_dataset/train_data.csv', transform= composed_transform)\n",
    "  test_dataset = CsvDataset('regression_dataset/test_data.csv' , transform= composed_transform)\n",
    "  dataset = ConcatDataset([train_dataset, test_dataset])\n",
    "\n",
    "  return dataset"
   ]
  },
  {
   "cell_type": "markdown",
   "metadata": {
    "id": "HlQVaIJT6V5q"
   },
   "source": [
    "K_Fold Cross_Validation"
   ]
  },
  {
   "cell_type": "code",
   "execution_count": 29,
   "metadata": {
    "colab": {
     "base_uri": "https://localhost:8080/"
    },
    "id": "_vHfRF8IiAMO",
    "outputId": "bb84ec51-d60f-446c-aa45-ac258ce5d058"
   },
   "outputs": [
    {
     "name": "stdout",
     "output_type": "stream",
     "text": [
      "--------------------------------\n",
      "Fold 0\n",
      "--------------------------------\n",
      "Training process has finished\n",
      "Starting testing\n",
      "Accuracy for fold 0: 80 %\n",
      "--------------------------------\n",
      "Fold 1\n",
      "--------------------------------\n",
      "Training process has finished\n",
      "Starting testing\n",
      "Accuracy for fold 1: 64 %\n",
      "--------------------------------\n",
      "Fold 2\n",
      "--------------------------------\n",
      "Training process has finished\n",
      "Starting testing\n",
      "Accuracy for fold 2: 64 %\n",
      "--------------------------------\n",
      "Fold 3\n",
      "--------------------------------\n",
      "Training process has finished\n",
      "Starting testing\n",
      "Accuracy for fold 3: 74 %\n",
      "--------------------------------\n",
      "Fold 4\n",
      "--------------------------------\n",
      "Training process has finished\n",
      "Starting testing\n",
      "Accuracy for fold 4: 82 %\n",
      "--------------------------------\n",
      "Fold 5\n",
      "--------------------------------\n",
      "Training process has finished\n",
      "Starting testing\n",
      "Accuracy for fold 5: 78 %\n",
      "--------------------------------\n",
      "Fold 6\n",
      "--------------------------------\n",
      "Training process has finished\n",
      "Starting testing\n",
      "Accuracy for fold 6: 82 %\n",
      "--------------------------------\n",
      "Fold 7\n",
      "--------------------------------\n",
      "Training process has finished\n",
      "Starting testing\n",
      "Accuracy for fold 7: 85 %\n",
      "--------------------------------\n",
      "Fold 8\n",
      "--------------------------------\n",
      "Training process has finished\n",
      "Starting testing\n",
      "Accuracy for fold 8: 68 %\n",
      "--------------------------------\n",
      "Fold 9\n",
      "--------------------------------\n",
      "Training process has finished\n",
      "Starting testing\n",
      "Accuracy for fold 9: 51 %\n",
      "--------------------------------\n",
      "K-FOLD CROSS VALIDATION RESULTS FOR 10 FOLDS\n",
      "--------------------------------\n",
      "Fold 0: 80.35391420125961 %\n",
      "Fold 1: 64.87342119216919 %\n",
      "Fold 2: 64.59811329841614 %\n",
      "Fold 3: 74.50194954872131 %\n",
      "Fold 4: 82.70311653614044 %\n",
      "Fold 5: 78.92413437366486 %\n",
      "Fold 6: 82.00275897979736 %\n",
      "Fold 7: 85.79965233802795 %\n",
      "Fold 8: 68.77388656139374 %\n",
      "Fold 9: 51.885855197906494 %\n",
      "Average: 73.44168022274971 %\n"
     ]
    }
   ],
   "source": [
    "k_fold = 10\n",
    "# for Fold results\n",
    "results = {}\n",
    "\n",
    "dataset = get_dataset()\n",
    "\n",
    "# define KFold cross_validation\n",
    "kfold = KFold(n_splits=k_fold, shuffle=True)\n",
    "\n",
    "#start print\n",
    "print('--------------------------------')\n",
    "\n",
    "# kfold cross validation model evaluation\n",
    "for fold, (train_ids, test_ids) in enumerate(kfold.split(dataset)):\n",
    "\n",
    "  print(f'Fold {fold}')\n",
    "  print('--------------------------------')\n",
    "\n",
    "\n",
    "  # Sample elements randomly from a given list of ids, no replacement.\n",
    "  train_subsampler = SubsetRandomSampler(train_ids)\n",
    "  test_subsampler = SubsetRandomSampler(test_ids)\n",
    "\n",
    "  # Define data loaders for training and testing data in this fold\n",
    "  trainloader = DataLoader(dataset, batch_size= batch_size, sampler=train_subsampler, num_workers= 2)\n",
    "  testloader  = DataLoader(dataset, batch_size= batch_size, sampler=test_subsampler, num_workers= 2)\n",
    "  \n",
    "  for epoch in range(0, num_epochs):\n",
    "      net.train()\n",
    "\n",
    "      # Set current loss value\n",
    "      current_loss = 0.0\n",
    "\n",
    "      # Iterate over the DataLoader for training data\n",
    "      for batch_idx, (data, target) in enumerate(trainloader, 0):\n",
    "        data, target = data.to(DEVICE), target.to(DEVICE)\n",
    "        optimizer.zero_grad()\n",
    "        output = net(data)\n",
    "        loss = F.mse_loss(output, target)\n",
    "        loss.backward()\n",
    "        optimizer.step()\n",
    "        current_loss += loss.item()\n",
    "\n",
    "  # Process is complete.\n",
    "  print('Training process has finished')\n",
    "  # Print about testing\n",
    "  print('Starting testing')\n",
    "\n",
    "  # Evaluationfor this fold\n",
    "  accuracy = 0\n",
    "  #correct = 0\n",
    "  net.eval()\n",
    "  val_loss = []\n",
    "  with torch.no_grad():\n",
    "    # Iterate over the test data and generate predictions\n",
    "    for batch_idx, (data, target) in enumerate(testloader, 0):\n",
    "      data, target = data.to(DEVICE), target.to(DEVICE)\n",
    "      output = net(data)\n",
    "      loss = F.mse_loss(output, target)\n",
    "      loss_batch = loss.detach().cpu().numpy()\n",
    "      val_loss.append(loss_batch)\n",
    "\n",
    "    accuracy = ( 1 - np.mean(val_loss) )\n",
    "    # Print accuracy\n",
    "    print('Accuracy for fold %d: %d %%' % (fold, accuracy*100))\n",
    "    print('--------------------------------')\n",
    "    results[fold] = accuracy\n",
    "    \n",
    "# Print fold results\n",
    "print(f'K-FOLD CROSS VALIDATION RESULTS FOR {k_fold} FOLDS')\n",
    "print('--------------------------------')\n",
    "sum = 0.0\n",
    "for key, value in results.items():\n",
    "  print(f'Fold {key}: {value*100} %')\n",
    "  sum += value\n",
    "print(f'Average: {(sum/len(results.items()))*100} %')"
   ]
  },
  {
   "cell_type": "code",
   "execution_count": 30,
   "metadata": {
    "colab": {
     "base_uri": "https://localhost:8080/"
    },
    "id": "sjxQngYnwwan",
    "outputId": "d1fedc80-4fbe-4ffa-e6cb-c5d94a46bd38"
   },
   "outputs": [
    {
     "name": "stdout",
     "output_type": "stream",
     "text": [
      "odict_keys(['fc1.weight', 'fc1.bias', 'fc2.weight', 'fc2.bias', 'fc3.weight', 'fc3.bias', 'out.weight', 'out.bias'])\n"
     ]
    }
   ],
   "source": [
    "### Save network parameters\n",
    "### Save the network state\n",
    "# The state dictionary includes all the parameters of the network\n",
    "net_state_dict = net.state_dict()\n",
    "print(net_state_dict.keys())\n",
    "# Save the state dict to a file\n",
    "torch.save(net_state_dict, 'Regression_net_parameters.torch')"
   ]
  },
  {
   "cell_type": "code",
   "execution_count": 32,
   "metadata": {
    "colab": {
     "base_uri": "https://localhost:8080/"
    },
    "id": "74VDlU4Kwwzz",
    "outputId": "bdbd6c45-c521-4827-d86b-ad300551ab14"
   },
   "outputs": [
    {
     "name": "stdout",
     "output_type": "stream",
     "text": [
      "Network initialized\n"
     ]
    },
    {
     "data": {
      "text/plain": [
       "<All keys matched successfully>"
      ]
     },
     "execution_count": 32,
     "metadata": {},
     "output_type": "execute_result"
    }
   ],
   "source": [
    "### Reload the network state\n",
    "# First initialize the network (if not already done)\n",
    "# IMPORTANT: you need to know the model definition!!\n",
    "net = Net(Ni,Nh1,Nh2,Nh3,No,p0,p1,p2).to(DEVICE)\n",
    "# Load the state dict previously saved\n",
    "net_state_dict = torch.load('Regression_net_parameters.torch')\n",
    "# Update the network parameters\n",
    "net.load_state_dict(net_state_dict)"
   ]
  },
  {
   "cell_type": "code",
   "execution_count": 33,
   "metadata": {
    "id": "xo9NgPOPww-r"
   },
   "outputs": [],
   "source": [
    "### Save the optimizer state\n",
    "torch.save(optimizer.state_dict(), 'Regression_optimizer_state.torch')\n",
    "\n",
    "### Reload the optimizer state\n",
    "optimizer = optim.Adam(net.parameters(), lr = lr, weight_decay= weight_decay)"
   ]
  },
  {
   "cell_type": "code",
   "execution_count": 34,
   "metadata": {
    "id": "u21bqDfzHYrG"
   },
   "outputs": [],
   "source": [
    "opt_state_dict = torch.load('Regression_optimizer_state.torch')\n",
    "optimizer.load_state_dict(opt_state_dict)"
   ]
  },
  {
   "cell_type": "markdown",
   "metadata": {
    "id": "mx0ytZ-EQkuf"
   },
   "source": [
    "Vsualization"
   ]
  },
  {
   "cell_type": "code",
   "execution_count": 35,
   "metadata": {
    "colab": {
     "base_uri": "https://localhost:8080/",
     "height": 585
    },
    "id": "8jCrzS36iAPA",
    "outputId": "43977084-9c1c-44e7-c053-f895ff7efe23"
   },
   "outputs": [
    {
     "data": {
      "image/png": "[encoded data removed]",
      "text/plain": [
       "<Figure size 864x576 with 3 Axes>"
      ]
     },
     "metadata": {
      "needs_background": "light"
     },
     "output_type": "display_data"
    }
   ],
   "source": [
    "# Weights Histograms\n",
    "\n",
    "# First hidden layer\n",
    "h1_w = net.fc1.weight.data.cpu().numpy()\n",
    "h1_b = net.fc1.bias.data.cpu().numpy()\n",
    "\n",
    "# Second hidden layer\n",
    "h2_w = net.fc2.weight.data.cpu().numpy()\n",
    "h2_b = net.fc2.bias.data.cpu().numpy()\n",
    "\n",
    "# Output layer\n",
    "out_w = net.out.weight.data.cpu().numpy()\n",
    "out_b = net.out.bias.data.cpu().numpy()\n",
    "\n",
    "# Weights histogram\n",
    "fig, axs = plt.subplots(3, 1, figsize=(12,8))\n",
    "axs[0].hist(h1_w.flatten(), 50)\n",
    "axs[0].set_title('First hidden layer weights')\n",
    "axs[1].hist(h2_w.flatten(), 50)\n",
    "axs[1].set_title('Second hidden layer weights')\n",
    "axs[2].hist(out_w.flatten(), 50)\n",
    "axs[2].set_title('Output layer weights')\n",
    "[ax.grid() for ax in axs]\n",
    "plt.tight_layout()\n",
    "plt.show()"
   ]
  },
  {
   "cell_type": "code",
   "execution_count": 35,
   "metadata": {
    "id": "XDjAX0oyHj3p"
   },
   "outputs": [],
   "source": []
  },
  {
   "cell_type": "code",
   "execution_count": 36,
   "metadata": {
    "colab": {
     "base_uri": "https://localhost:8080/",
     "height": 441
    },
    "id": "ZIpQZPP3NLeG",
    "outputId": "698468c2-fe9b-4182-8f83-9b329220c058"
   },
   "outputs": [
    {
     "data": {
      "image/png": "[encoded data removed]",
      "text/plain": [
       "<Figure size 864x432 with 3 Axes>"
      ]
     },
     "metadata": {
      "needs_background": "light"
     },
     "output_type": "display_data"
    }
   ],
   "source": [
    "# activation analysis\n",
    "\n",
    "def get_activation(layer, input, output):\n",
    "    global activation\n",
    "    activation = F.relu(output)\n",
    "\n",
    "### Register hook  \n",
    "hook_handle = net.fc1.register_forward_hook(get_activation)\n",
    "train_dataloader, val_dataloader, test_dataloader = get_data()\n",
    "\n",
    "x , label = next(iter(test_dataloader))\n",
    "### Analyze activations\n",
    "net.eval()\n",
    "with torch.no_grad():\n",
    "    x1 = x[0].to(DEVICE)\n",
    "    y1 = net(x1)\n",
    "    z1 = activation\n",
    "    x2 = x[5].to(DEVICE)\n",
    "    y2 = net(x2)\n",
    "    z2 = activation\n",
    "    x3 = x[10].to(DEVICE)\n",
    "    y3 = net(x3)\n",
    "    z3 = activation\n",
    "\n",
    "### Remove hook\n",
    "hook_handle.remove()\n",
    "\n",
    "### Plot activations\n",
    "fig, axs = plt.subplots(3, 1, figsize=(12,6))\n",
    "axs[0].stem(z1.cpu().numpy(), use_line_collection=True)\n",
    "axs[0].set_title('First layer activations for input x=%.2f' % x1)\n",
    "axs[1].stem(z2.cpu().numpy(), use_line_collection=True)\n",
    "axs[1].set_title('First layer activations for input x=%.2f' % x2)\n",
    "axs[2].stem(z3.cpu().numpy(), use_line_collection=True)\n",
    "axs[2].set_title('First layer activations for input x=%.2f' % x3)\n",
    "plt.tight_layout()\n",
    "plt.show()"
   ]
  },
  {
   "cell_type": "code",
   "execution_count": 37,
   "metadata": {
    "colab": {
     "base_uri": "https://localhost:8080/",
     "height": 441
    },
    "id": "-L7MnBYUWimf",
    "outputId": "138b5c98-1ecf-435d-8361-7bd477c31212"
   },
   "outputs": [
    {
     "data": {
      "image/png": "[encoded data removed]",
      "text/plain": [
       "<Figure size 864x432 with 3 Axes>"
      ]
     },
     "metadata": {
      "needs_background": "light"
     },
     "output_type": "display_data"
    }
   ],
   "source": [
    "# activation analysis\n",
    "\n",
    "def get_activation(layer, input, output):\n",
    "    global activation\n",
    "    activation = F.relu(output)\n",
    "\n",
    "### Register hook  \n",
    "hook_handle = net.fc3.register_forward_hook(get_activation)\n",
    "\n",
    "### Analyze activations\n",
    "\n",
    "net.eval()\n",
    "with torch.no_grad():\n",
    "    x1 = x[0].to(DEVICE)\n",
    "    y1 = net(x1)\n",
    "    z1 = activation\n",
    "    x2 = x[5].to(DEVICE)\n",
    "    y2 = net(x2)\n",
    "    z2 = activation\n",
    "    x3 = x[10].to(DEVICE)\n",
    "    y3 = net(x3)\n",
    "    z3 = activation\n",
    "\n",
    "### Remove hook\n",
    "hook_handle.remove()\n",
    "\n",
    "### Plot activations\n",
    "fig, axs = plt.subplots(3, 1, figsize=(12,6))\n",
    "axs[0].stem(z1.cpu().numpy(), use_line_collection=True)\n",
    "axs[0].set_title('Last layer activations for input x=%.2f' % x1)\n",
    "axs[1].stem(z2.cpu().numpy(), use_line_collection=True)\n",
    "axs[1].set_title('Last layer activations for input x=%.2f' % x2)\n",
    "axs[2].stem(z3.cpu().numpy(), use_line_collection=True)\n",
    "axs[2].set_title('Last layer activations for input x=%.2f' % x3)\n",
    "plt.tight_layout()\n",
    "plt.show()"
   ]
  },
  {
   "cell_type": "code",
   "execution_count": 37,
   "metadata": {
    "id": "Hw2rY1hN67k3"
   },
   "outputs": [],
   "source": []
  },
  {
   "cell_type": "markdown",
   "metadata": {
    "id": "3hOqTsLFi2PU"
   },
   "source": [
    "Classification task"
   ]
  },
  {
   "cell_type": "code",
   "execution_count": 54,
   "metadata": {
    "colab": {
     "base_uri": "https://localhost:8080/"
    },
    "id": "rxfu8WQyi1YT",
    "outputId": "e8496ea6-a876-46a3-959b-459d1779331a"
   },
   "outputs": [
    {
     "data": {
      "text/plain": [
       "<torch._C.Generator at 0x7fec405c3b30>"
      ]
     },
     "execution_count": 54,
     "metadata": {},
     "output_type": "execute_result"
    }
   ],
   "source": [
    "DEVICE = torch.device(\"cuda\") if torch.cuda.is_available() else torch.device(\"cpu\")\n",
    "BATCHSIZE = 256\n",
    "CLASSES = 10\n",
    "DIR = 'classifier_data'\n",
    "EPOCHS = 25\n",
    "LOG_INTERVAL = 10\n",
    "N_TRAIN_EXAMPLES = BATCHSIZE * 30\n",
    "N_VALID_EXAMPLES = BATCHSIZE * 10\n",
    "torch.manual_seed(0)"
   ]
  },
  {
   "cell_type": "code",
   "execution_count": 55,
   "metadata": {
    "id": "q4EZ31E6jXWa"
   },
   "outputs": [],
   "source": [
    "# this function will get data and creat the Dataloader for training the network\n",
    "\n",
    "def get_mnist():\n",
    "    # Load FashionMNIST dataset.\n",
    "    train_loader = DataLoader(\n",
    "        torchvision.datasets.FashionMNIST(DIR, train=True, download=True, transform=transforms.ToTensor()),\n",
    "        batch_size=BATCHSIZE,\n",
    "        shuffle=True,\n",
    "        num_workers= 2,\n",
    "    )\n",
    "    valid_loader = torch.utils.data.DataLoader(\n",
    "        torchvision.datasets.FashionMNIST(DIR, train=False, download=True, transform=transforms.ToTensor()),\n",
    "        batch_size=BATCHSIZE,\n",
    "        shuffle=False,\n",
    "        num_workers= 2,\n",
    "    )\n",
    "\n",
    "    return train_loader, valid_loader"
   ]
  },
  {
   "cell_type": "code",
   "execution_count": 56,
   "metadata": {
    "colab": {
     "base_uri": "https://localhost:8080/"
    },
    "id": "3AoPiwTFjhH2",
    "outputId": "11418238-02b6-4cc7-e028-835fd7de39f6"
   },
   "outputs": [
    {
     "name": "stdout",
     "output_type": "stream",
     "text": [
      "Epoch: 1/25.. Training loss: -41228.298.. Validation Accuracy: 39.062\n",
      "Epoch: 2/25.. Training loss: -844190.940.. Validation Accuracy: 39.062\n",
      "Epoch: 3/25.. Training loss: -3925133.411.. Validation Accuracy: 39.062\n",
      "Epoch: 4/25.. Training loss: -10571079.411.. Validation Accuracy: 39.062\n",
      "Epoch: 5/25.. Training loss: -21766546.102.. Validation Accuracy: 39.062\n",
      "Epoch: 6/25.. Training loss: -38273202.366.. Validation Accuracy: 39.062\n",
      "Epoch: 7/25.. Training loss: -60679089.566.. Validation Accuracy: 39.062\n",
      "Epoch: 8/25.. Training loss: -89417105.055.. Validation Accuracy: 39.062\n",
      "Epoch: 9/25.. Training loss: -124983010.145.. Validation Accuracy: 39.062\n",
      "Epoch: 10/25.. Training loss: -167554365.753.. Validation Accuracy: 39.062\n",
      "Epoch: 11/25.. Training loss: -217628172.119.. Validation Accuracy: 39.062\n",
      "Epoch: 12/25.. Training loss: -275398569.940.. Validation Accuracy: 39.062\n",
      "Epoch: 13/25.. Training loss: -340638844.732.. Validation Accuracy: 39.062\n",
      "Epoch: 14/25.. Training loss: -414012327.898.. Validation Accuracy: 39.062\n",
      "Epoch: 15/25.. Training loss: -495566230.196.. Validation Accuracy: 39.062\n",
      "Epoch: 16/25.. Training loss: -585843787.030.. Validation Accuracy: 39.062\n",
      "Epoch: 17/25.. Training loss: -684623120.068.. Validation Accuracy: 39.062\n",
      "Epoch: 18/25.. Training loss: -792695809.634.. Validation Accuracy: 39.062\n",
      "Epoch: 19/25.. Training loss: -909194917.583.. Validation Accuracy: 39.062\n",
      "Epoch: 20/25.. Training loss: -1034666243.268.. Validation Accuracy: 39.062\n",
      "Epoch: 21/25.. Training loss: -1171316170.621.. Validation Accuracy: 39.062\n",
      "Epoch: 22/25.. Training loss: -1315740753.157.. Validation Accuracy: 39.062\n",
      "Epoch: 23/25.. Training loss: -1469952095.319.. Validation Accuracy: 39.062\n",
      "Epoch: 24/25.. Training loss: -1635434958.434.. Validation Accuracy: 39.062\n",
      "Epoch: 25/25.. Training loss: -1810925581.072.. Validation Accuracy: 39.062\n"
     ]
    }
   ],
   "source": [
    "# basic Classificatio network\n",
    "\n",
    "BCN = nn.Sequential(nn.Linear(in_features= 784, out_features= 256),\n",
    "                    nn.LeakyReLU(),\n",
    "                    nn.Dropout(0.1),\n",
    "                    nn.Linear(in_features= 256, out_features= 64),\n",
    "                    nn.LeakyReLU(),\n",
    "                    nn.Dropout(0.1),\n",
    "                    nn.Linear(in_features= 64, out_features= CLASSES)\n",
    ")\n",
    "\n",
    "# Kaiming weight initialization\n",
    "def init_kaiming(m):\n",
    "    if type(m) == nn.Linear:\n",
    "        nn.init.kaiming_uniform_(m.weight)\n",
    "\n",
    "BCN = BCN.apply(init_kaiming)\n",
    "\n",
    "BCN.to(DEVICE)\n",
    "optimizer = optim.Adam(BCN.parameters(), lr = 1e-3, weight_decay= 1e-5)\n",
    "\n",
    "# Get the FashionMNIST dataset.\n",
    "train_loader, valid_loader = get_mnist()\n",
    "\n",
    "# Training of the model.\n",
    "for epoch in range(EPOCHS):\n",
    "    running_loss = 0\n",
    "    BCN.train()\n",
    "    for batch_idx, (data, target) in enumerate(train_loader):\n",
    "        # Flatten Fashion-MNIST images into a 784 long vector\n",
    "        data, target = data.view(data.size(0), -1).to(DEVICE), target.to(DEVICE)\n",
    "        optimizer.zero_grad()\n",
    "        output = BCN(data)\n",
    "        loss = F.nll_loss(output, target)\n",
    "        loss.backward()\n",
    "        optimizer.step()\n",
    "        running_loss += loss.item()\n",
    "\n",
    "    # Validation of the model.\n",
    "    BCN.eval()\n",
    "    correct = 0\n",
    "    with torch.no_grad():\n",
    "        for batch_idx, (data, target) in enumerate(valid_loader):\n",
    "            # Flatten Fashion-MNIST images into a 784 long vector\n",
    "            data, target = data.view(data.size(0), -1).to(DEVICE), target.to(DEVICE)\n",
    "            output = BCN(data)\n",
    "            # Get the index of the max log-probability.\n",
    "            pred = output.argmax(dim=1, keepdim=True)\n",
    "            correct += pred.eq(target.view_as(pred)).sum().item()\n",
    "\n",
    "    accuracy = correct / min(len(valid_loader.dataset), N_VALID_EXAMPLES)\n",
    "    print(\"Epoch: {}/{}..\".format(epoch+1, EPOCHS),\n",
    "          \"Training loss: {:.3f}..\".format(running_loss/len(train_loader)),\n",
    "          \"Validation Accuracy: {:.3f}\".format(accuracy * 100))"
   ]
  },
  {
   "cell_type": "code",
   "execution_count": 57,
   "metadata": {
    "id": "4nX17HlujXfd"
   },
   "outputs": [],
   "source": [
    "# this function will use as trial model for optuna\n",
    "\n",
    "def define_model(trial):\n",
    "    # We optimize the number of layers, hidden units and dropout ratio in each layer.\n",
    "    n_layers = trial.suggest_int(\"n_layers\", 1, 3)\n",
    "    layers = []\n",
    "\n",
    "    in_features = 28*28\n",
    "    for i in range(n_layers):\n",
    "        out_features = trial.suggest_int(\"n_units_l{}\".format(i), 64, 256, log=True)\n",
    "        layers.append(nn.Linear(in_features, out_features))\n",
    "        layers.append(nn.ReLU())\n",
    "        p = trial.suggest_float(\"dropout_l{}\".format(i), 0.2, 0.5)\n",
    "        layers.append(nn.Dropout(p))\n",
    "\n",
    "        in_features = out_features\n",
    "    layers.append(nn.Linear(in_features, CLASSES))\n",
    "    layers.append(nn.LogSoftmax(dim=1))\n",
    "\n",
    "    return nn.Sequential(*layers)"
   ]
  },
  {
   "cell_type": "code",
   "execution_count": 58,
   "metadata": {
    "colab": {
     "base_uri": "https://localhost:8080/"
    },
    "id": "lYC1y9j8jXif",
    "outputId": "7303f13a-dfbf-4850-92fc-88283e9476d2"
   },
   "outputs": [
    {
     "name": "stderr",
     "output_type": "stream",
     "text": [
      "\u001b[32m[I 2022-07-05 15:33:51,941]\u001b[0m A new study created in memory with name: Classification Task\u001b[0m\n",
      "\u001b[32m[I 2022-07-05 15:34:26,661]\u001b[0m Trial 0 finished with value: 0.510546875 and parameters: {'n_layers': 3, 'n_units_l0': 65, 'dropout_l0': 0.3900944704778826, 'n_units_l1': 181, 'dropout_l1': 0.34955210369077716, 'n_units_l2': 87, 'dropout_l2': 0.2594188594278872, 'optimizer': 'Adam', 'lr': 0.005513651007120869, 'weight_decay': 0.06509886021509587}. Best is trial 0 with value: 0.510546875.\u001b[0m\n",
      "\u001b[32m[I 2022-07-05 15:35:00,297]\u001b[0m Trial 1 finished with value: 0.096875 and parameters: {'n_layers': 1, 'n_units_l0': 130, 'dropout_l0': 0.44378628849563406, 'optimizer': 'RMSprop', 'lr': 0.04689175530591104, 'weight_decay': 0.007216109813316294}. Best is trial 0 with value: 0.510546875.\u001b[0m\n",
      "\u001b[32m[I 2022-07-05 15:35:34,711]\u001b[0m Trial 2 finished with value: 0.7796875 and parameters: {'n_layers': 2, 'n_units_l0': 77, 'dropout_l0': 0.31200222801544075, 'n_units_l1': 163, 'dropout_l1': 0.3325499523268988, 'optimizer': 'RMSprop', 'lr': 0.003995661855958764, 'weight_decay': 0.0025360383322064173}. Best is trial 2 with value: 0.7796875.\u001b[0m\n",
      "\u001b[32m[I 2022-07-05 15:36:09,916]\u001b[0m Trial 3 finished with value: 0.776953125 and parameters: {'n_layers': 3, 'n_units_l0': 132, 'dropout_l0': 0.4725946642426005, 'n_units_l1': 99, 'dropout_l1': 0.2271378047812722, 'n_units_l2': 97, 'dropout_l2': 0.23419530855906495, 'optimizer': 'Adam', 'lr': 0.0015500461319089488, 'weight_decay': 0.018929885308130206}. Best is trial 2 with value: 0.7796875.\u001b[0m\n",
      "\u001b[32m[I 2022-07-05 15:36:43,776]\u001b[0m Trial 4 finished with value: 0.16328125 and parameters: {'n_layers': 1, 'n_units_l0': 210, 'dropout_l0': 0.3054957918296264, 'optimizer': 'SGD', 'lr': 0.00020046868950224618, 'weight_decay': 4.571551229239349e-05}. Best is trial 2 with value: 0.7796875.\u001b[0m\n",
      "\u001b[32m[I 2022-07-05 15:36:45,216]\u001b[0m Trial 5 pruned. \u001b[0m\n",
      "\u001b[32m[I 2022-07-05 15:37:19,607]\u001b[0m Trial 6 finished with value: 0.818359375 and parameters: {'n_layers': 2, 'n_units_l0': 224, 'dropout_l0': 0.3603673846405445, 'n_units_l1': 145, 'dropout_l1': 0.21178453016761623, 'optimizer': 'Adam', 'lr': 0.00021031838969395273, 'weight_decay': 0.01245435339733161}. Best is trial 6 with value: 0.818359375.\u001b[0m\n",
      "\u001b[32m[I 2022-07-05 15:37:54,113]\u001b[0m Trial 7 finished with value: 0.684375 and parameters: {'n_layers': 1, 'n_units_l0': 116, 'dropout_l0': 0.2944780615528065, 'optimizer': 'Adam', 'lr': 0.033087251918647816, 'weight_decay': 0.011296979705718796}. Best is trial 6 with value: 0.818359375.\u001b[0m\n",
      "\u001b[32m[I 2022-07-05 15:38:28,877]\u001b[0m Trial 8 finished with value: 0.819140625 and parameters: {'n_layers': 3, 'n_units_l0': 114, 'dropout_l0': 0.38167326931812706, 'n_units_l1': 130, 'dropout_l1': 0.3793509943888921, 'n_units_l2': 92, 'dropout_l2': 0.2902613926822122, 'optimizer': 'RMSprop', 'lr': 0.0016994670732385824, 'weight_decay': 0.0018282184168059736}. Best is trial 8 with value: 0.819140625.\u001b[0m\n",
      "\u001b[32m[I 2022-07-05 15:39:03,397]\u001b[0m Trial 9 finished with value: 0.8359375 and parameters: {'n_layers': 2, 'n_units_l0': 96, 'dropout_l0': 0.21927531820844734, 'n_units_l1': 249, 'dropout_l1': 0.3019123530913591, 'optimizer': 'RMSprop', 'lr': 0.00018753883849476243, 'weight_decay': 0.0012000185058916957}. Best is trial 9 with value: 0.8359375.\u001b[0m\n",
      "\u001b[32m[I 2022-07-05 15:39:04,814]\u001b[0m Trial 10 pruned. \u001b[0m\n",
      "\u001b[32m[I 2022-07-05 15:39:09,057]\u001b[0m Trial 11 pruned. \u001b[0m\n",
      "\u001b[32m[I 2022-07-05 15:39:10,502]\u001b[0m Trial 12 pruned. \u001b[0m\n",
      "\u001b[32m[I 2022-07-05 15:39:45,785]\u001b[0m Trial 13 finished with value: 0.844140625 and parameters: {'n_layers': 2, 'n_units_l0': 92, 'dropout_l0': 0.3981439163270331, 'n_units_l1': 67, 'dropout_l1': 0.28130893511159366, 'optimizer': 'RMSprop', 'lr': 0.0006726811791467421, 'weight_decay': 0.0010764595860273704}. Best is trial 13 with value: 0.844140625.\u001b[0m\n",
      "\u001b[32m[I 2022-07-05 15:40:21,077]\u001b[0m Trial 14 finished with value: 0.848046875 and parameters: {'n_layers': 2, 'n_units_l0': 91, 'dropout_l0': 0.41193570507584765, 'n_units_l1': 70, 'dropout_l1': 0.28426261438711725, 'optimizer': 'RMSprop', 'lr': 0.0004790984107052618, 'weight_decay': 0.0003242918825912826}. Best is trial 14 with value: 0.848046875.\u001b[0m\n",
      "\u001b[32m[I 2022-07-05 15:40:57,677]\u001b[0m Trial 15 finished with value: 0.8484375 and parameters: {'n_layers': 2, 'n_units_l0': 86, 'dropout_l0': 0.41816581613249787, 'n_units_l1': 66, 'dropout_l1': 0.2649470463290914, 'optimizer': 'RMSprop', 'lr': 0.000675707434716547, 'weight_decay': 0.000292794077712486}. Best is trial 15 with value: 0.8484375.\u001b[0m\n",
      "\u001b[32m[I 2022-07-05 15:40:59,109]\u001b[0m Trial 16 pruned. \u001b[0m\n",
      "\u001b[32m[I 2022-07-05 15:41:34,183]\u001b[0m Trial 17 finished with value: 0.85546875 and parameters: {'n_layers': 2, 'n_units_l0': 162, 'dropout_l0': 0.47883278175925514, 'n_units_l1': 64, 'dropout_l1': 0.2593084914177575, 'optimizer': 'RMSprop', 'lr': 0.0005216755487455685, 'weight_decay': 2.783126193107858e-05}. Best is trial 17 with value: 0.85546875.\u001b[0m\n",
      "\u001b[32m[I 2022-07-05 15:42:08,977]\u001b[0m Trial 18 finished with value: 0.837109375 and parameters: {'n_layers': 1, 'n_units_l0': 163, 'dropout_l0': 0.4923228576126395, 'optimizer': 'RMSprop', 'lr': 0.005862338248462431, 'weight_decay': 1.2503991278413048e-05}. Best is trial 17 with value: 0.85546875.\u001b[0m\n",
      "\u001b[32m[I 2022-07-05 15:42:10,421]\u001b[0m Trial 19 pruned. \u001b[0m\n",
      "\u001b[32m[I 2022-07-05 15:42:16,113]\u001b[0m Trial 20 pruned. \u001b[0m\n",
      "\u001b[32m[I 2022-07-05 15:42:51,305]\u001b[0m Trial 21 finished with value: 0.85859375 and parameters: {'n_layers': 2, 'n_units_l0': 147, 'dropout_l0': 0.42173337612599393, 'n_units_l1': 77, 'dropout_l1': 0.27367182917629534, 'optimizer': 'RMSprop', 'lr': 0.0006407150463814886, 'weight_decay': 0.0001759964726811066}. Best is trial 21 with value: 0.85859375.\u001b[0m\n",
      "\u001b[32m[I 2022-07-05 15:43:26,366]\u001b[0m Trial 22 finished with value: 0.858984375 and parameters: {'n_layers': 2, 'n_units_l0': 146, 'dropout_l0': 0.3580094537135758, 'n_units_l1': 82, 'dropout_l1': 0.2664681910505669, 'optimizer': 'RMSprop', 'lr': 0.000532424341044392, 'weight_decay': 0.00011532958316944942}. Best is trial 22 with value: 0.858984375.\u001b[0m\n",
      "\u001b[32m[I 2022-07-05 15:44:01,523]\u001b[0m Trial 23 finished with value: 0.859765625 and parameters: {'n_layers': 2, 'n_units_l0': 145, 'dropout_l0': 0.3635023027949913, 'n_units_l1': 82, 'dropout_l1': 0.20402776205986065, 'optimizer': 'RMSprop', 'lr': 0.0022709955017296687, 'weight_decay': 9.475834744125594e-05}. Best is trial 23 with value: 0.859765625.\u001b[0m\n"
     ]
    },
    {
     "name": "stdout",
     "output_type": "stream",
     "text": [
      "Best trial:\n",
      "  Value:  0.859765625\n",
      "  Params: \n",
      "    n_layers: 2\n",
      "    n_units_l0: 145\n",
      "    dropout_l0: 0.3635023027949913\n",
      "    n_units_l1: 82\n",
      "    dropout_l1: 0.20402776205986065\n",
      "    optimizer: RMSprop\n",
      "    lr: 0.0022709955017296687\n",
      "    weight_decay: 9.475834744125594e-05\n"
     ]
    }
   ],
   "source": [
    "# this function will define the optuna procedure for classification and its hyperparameters\n",
    "\n",
    "def objective(trial):\n",
    "\n",
    "    # Generate the model.\n",
    "    model = define_model(trial).to(DEVICE)\n",
    "\n",
    "    # Generate the optimizers.\n",
    "    optimizer_name = trial.suggest_categorical(\"optimizer\", [\"Adam\", \"RMSprop\", \"SGD\"])\n",
    "    lr = trial.suggest_float(\"lr\", 1e-5, 1e-1, log=True)\n",
    "    weight_decay = trial.suggest_float(\"weight_decay\", 1e-5,1e-1, log=True)\n",
    "    optimizer = getattr(optim, optimizer_name)(model.parameters(), lr=lr, weight_decay=weight_decay)\n",
    "\n",
    "    # Get the FashionMNIST dataset.\n",
    "    train_loader, valid_loader = get_mnist()\n",
    "\n",
    "    # Training of the model.\n",
    "    for epoch in range(EPOCHS):\n",
    "        model.train()\n",
    "        for batch_idx, (data, target) in enumerate(train_loader):\n",
    "            # Limiting training data for faster epochs.\n",
    "            if batch_idx * BATCHSIZE >= N_TRAIN_EXAMPLES:\n",
    "                break\n",
    "\n",
    "            data, target = data.view(data.size(0), -1).to(DEVICE), target.to(DEVICE)\n",
    "\n",
    "            optimizer.zero_grad()\n",
    "            output = model(data)\n",
    "            loss = F.nll_loss(output, target)\n",
    "            loss.backward()\n",
    "            optimizer.step()\n",
    "\n",
    "        # Validation of the model.\n",
    "        model.eval()\n",
    "        correct = 0\n",
    "        with torch.no_grad():\n",
    "            for batch_idx, (data, target) in enumerate(valid_loader):\n",
    "                # Limiting validation data.\n",
    "                if batch_idx * BATCHSIZE >= N_VALID_EXAMPLES:\n",
    "                    break\n",
    "                data, target = data.view(data.size(0), -1).to(DEVICE), target.to(DEVICE)\n",
    "                output = model(data)\n",
    "                # Get the index of the max log-probability.\n",
    "                pred = output.argmax(dim=1, keepdim=True)\n",
    "                correct += pred.eq(target.view_as(pred)).sum().item()\n",
    "\n",
    "        accuracy = correct / min(len(valid_loader.dataset), N_VALID_EXAMPLES)\n",
    "\n",
    "        trial.report(accuracy, epoch)\n",
    "\n",
    "        # Handle pruning based on the intermediate value.\n",
    "        if trial.should_prune():\n",
    "            raise optuna.exceptions.TrialPruned()\n",
    "\n",
    "    return accuracy\n",
    "\n",
    "\n",
    "if __name__ == \"__main__\":\n",
    "    sampler= optuna.samplers.TPESampler(seed=10)\n",
    "    study = optuna.create_study(study_name=\"Classification Task\", direction=\"maximize\", sampler= sampler)\n",
    "    study.optimize(objective, n_trials=50, timeout=600)\n",
    "\n",
    "    # pruned_trials = study.get_trials(deepcopy=False, states=[TrialState.PRUNED])\n",
    "    # complete_trials = study.get_trials(deepcopy=False, states=[TrialState.COMPLETE])\n",
    "# \n",
    "    # print(\"Study statistics: \")\n",
    "    # print(\"  Number of finished trials: \", len(study.trials))\n",
    "    # print(\"  Number of pruned trials: \", len(pruned_trials))\n",
    "    # print(\"  Number of complete trials: \", len(complete_trials))\n",
    "\n",
    "    print(\"Best trial:\")\n",
    "    trial = study.best_trial\n",
    "\n",
    "    print(\"  Value: \", trial.value)\n",
    "\n",
    "    print(\"  Params: \")\n",
    "    for key, value in trial.params.items():\n",
    "        print(\"    {}: {}\".format(key, value))"
   ]
  },
  {
   "cell_type": "code",
   "execution_count": 59,
   "metadata": {
    "id": "X1lRoeHKjXlc"
   },
   "outputs": [],
   "source": [
    "# Best Parameters from optuna\n",
    "\n",
    "Ni = 28*28\n",
    "No = 10\n",
    "Nh1 = trial.params['n_units_l0']\n",
    "Nh2 = trial.params['n_units_l1']\n",
    "p0 = trial.params['dropout_l0']\n",
    "p1 = trial.params['dropout_l1']\n",
    "lr = trial.params['lr']\n",
    "weight_decay = trial.params['weight_decay']"
   ]
  },
  {
   "cell_type": "code",
   "execution_count": 60,
   "metadata": {
    "id": "qV5g_xnrjXo5"
   },
   "outputs": [],
   "source": [
    "# this is the class of classification neural network with its optimized hyperparameters \n",
    "\n",
    "class Net(nn.Module):\n",
    "    \n",
    "    def __init__(self, Ni, Nh1, Nh2, No):\n",
    "        \"\"\"\n",
    "        Ni - Input size\n",
    "        Nh1 - Neurons in the 1st hidden layer\n",
    "        Nh2 - Neurons in the 2nd hidden layer\n",
    "        No - Output size\n",
    "        \"\"\"\n",
    "        super().__init__()\n",
    "        \n",
    "        print('Network initialized')\n",
    "        self.fc1  = nn.Linear(in_features=Ni, out_features=Nh1)\n",
    "        self.fc2  = nn.Linear(in_features=Nh1, out_features=Nh2)\n",
    "        self.out  = nn.Linear(in_features=Nh2, out_features=No)\n",
    "        self.act  = nn.ReLU()\n",
    "        self.drop1 = nn.Dropout(p0)\n",
    "        self.drop2 = nn.Dropout(p1)\n",
    "        self.soft = nn.LogSoftmax(dim=1)\n",
    "        \n",
    "    def forward(self, x):\n",
    "        x = self.act(self.fc1(x))\n",
    "        x = self.drop1(x)\n",
    "        x = self.act(self.fc2(x))\n",
    "        x = self.out(self.drop2(x))\n",
    "        x = self.soft(x)\n",
    "  \n",
    "        return x"
   ]
  },
  {
   "cell_type": "code",
   "execution_count": 61,
   "metadata": {
    "colab": {
     "base_uri": "https://localhost:8080/"
    },
    "id": "FjDbv2k8jXrw",
    "outputId": "e566d741-6113-43b3-8980-f5817023463c"
   },
   "outputs": [
    {
     "name": "stdout",
     "output_type": "stream",
     "text": [
      "Network initialized\n"
     ]
    }
   ],
   "source": [
    "# initializing the network\n",
    "\n",
    "model = Net(Ni, Nh1, Nh2, No).to(DEVICE)\n",
    "optimizer = optim.RMSprop(model.parameters(),lr = lr, weight_decay= weight_decay)"
   ]
  },
  {
   "cell_type": "code",
   "execution_count": 62,
   "metadata": {
    "colab": {
     "base_uri": "https://localhost:8080/"
    },
    "id": "FS2CeCqRiAR7",
    "outputId": "9cd0d1a5-ef5b-4b19-95f4-f8a0fc3b90fd"
   },
   "outputs": [
    {
     "name": "stdout",
     "output_type": "stream",
     "text": [
      "--------------------------------\n",
      "Fold 0\n",
      "--------------------------------\n",
      "Training process has finished\n",
      "Starting testing\n",
      "Accuracy for fold 0: 85 %\n",
      "--------------------------------\n",
      "Fold 1\n",
      "--------------------------------\n",
      "Training process has finished\n",
      "Starting testing\n",
      "Accuracy for fold 1: 87 %\n",
      "--------------------------------\n",
      "Fold 2\n",
      "--------------------------------\n",
      "Training process has finished\n",
      "Starting testing\n",
      "Accuracy for fold 2: 87 %\n",
      "--------------------------------\n",
      "Fold 3\n",
      "--------------------------------\n",
      "Training process has finished\n",
      "Starting testing\n",
      "Accuracy for fold 3: 87 %\n",
      "--------------------------------\n",
      "Fold 4\n",
      "--------------------------------\n",
      "Training process has finished\n",
      "Starting testing\n",
      "Accuracy for fold 4: 87 %\n",
      "--------------------------------\n",
      "Fold 5\n",
      "--------------------------------\n",
      "Training process has finished\n",
      "Starting testing\n",
      "Accuracy for fold 5: 88 %\n",
      "--------------------------------\n",
      "Fold 6\n",
      "--------------------------------\n",
      "Training process has finished\n",
      "Starting testing\n",
      "Accuracy for fold 6: 88 %\n",
      "--------------------------------\n",
      "Fold 7\n",
      "--------------------------------\n",
      "Training process has finished\n",
      "Starting testing\n",
      "Accuracy for fold 7: 91 %\n",
      "--------------------------------\n",
      "Fold 8\n",
      "--------------------------------\n",
      "Training process has finished\n",
      "Starting testing\n",
      "Accuracy for fold 8: 90 %\n",
      "--------------------------------\n",
      "Fold 9\n",
      "--------------------------------\n",
      "Training process has finished\n",
      "Starting testing\n",
      "Accuracy for fold 9: 89 %\n",
      "--------------------------------\n",
      "K-FOLD CROSS VALIDATION RESULTS FOR 10 FOLDS\n",
      "--------------------------------\n",
      "Fold 0: 85.7421875 %\n",
      "Fold 1: 87.1484375 %\n",
      "Fold 2: 87.890625 %\n",
      "Fold 3: 87.734375 %\n",
      "Fold 4: 87.1484375 %\n",
      "Fold 5: 88.671875 %\n",
      "Fold 6: 88.515625 %\n",
      "Fold 7: 91.25 %\n",
      "Fold 8: 90.546875 %\n",
      "Fold 9: 89.7265625 %\n",
      "Average: 88.43749999999999 %\n"
     ]
    }
   ],
   "source": [
    "# Finding the accuracy of the network with K_Fold Cross validation\n",
    "\n",
    "from torch.utils.data import ConcatDataset\n",
    "k_fold = 10\n",
    "num_epochs = 20\n",
    "# for Fold results\n",
    "results = {}\n",
    "torch.manual_seed(0)\n",
    "\n",
    "dataset_train_part = torchvision.datasets.FashionMNIST(DIR, download=True, train=True, transform=transforms.ToTensor())\n",
    "dataset_test_part = torchvision.datasets.FashionMNIST(DIR, download=True, train=False, transform=transforms.ToTensor())\n",
    "dataset = ConcatDataset([dataset_train_part, dataset_test_part])\n",
    "\n",
    "# define KFold cross_validation\n",
    "kfold = KFold(n_splits=k_fold, shuffle=True)\n",
    "\n",
    "#start print\n",
    "print('--------------------------------')\n",
    "\n",
    "# kfold cross validatio model evaluation\n",
    "for fold, (train_ids, test_ids) in enumerate(kfold.split(dataset)):\n",
    "\n",
    "  print(f'Fold {fold}')\n",
    "  print('--------------------------------')\n",
    "\n",
    "\n",
    "  # Sample elements randomly from a given list of ids, no replacement.\n",
    "  train_subsampler = torch.utils.data.SubsetRandomSampler(train_ids)\n",
    "  test_subsampler = torch.utils.data.SubsetRandomSampler(test_ids)\n",
    "\n",
    "  # Define data loaders for training and testing data in this fold\n",
    "  trainloader = torch.utils.data.DataLoader(\n",
    "                    dataset, \n",
    "                    batch_size=BATCHSIZE, sampler=train_subsampler,\n",
    "                    num_workers= 2)\n",
    "  testloader = torch.utils.data.DataLoader(\n",
    "                    dataset,\n",
    "                    batch_size=BATCHSIZE, sampler=test_subsampler,\n",
    "                    num_workers= 2)\n",
    "  \n",
    "  for epoch in range(0, num_epochs):\n",
    "\n",
    "      # Set current loss value\n",
    "      current_loss = 0.0\n",
    "\n",
    "      # Iterate over the DataLoader for training data\n",
    "      for batch_idx, (data, target) in enumerate(trainloader, 0):\n",
    "        # Limiting training data for faster epochs.\n",
    "        if batch_idx * BATCHSIZE >= N_TRAIN_EXAMPLES:\n",
    "            break\n",
    "        data, target = data.view(data.size(0), -1).to(DEVICE), target.to(DEVICE)\n",
    "        optimizer.zero_grad()\n",
    "        output = model(data)\n",
    "        loss = F.nll_loss(output, target)\n",
    "        loss.backward()\n",
    "        optimizer.step()\n",
    "        current_loss += loss.item()\n",
    "\n",
    "  # Process is complete.\n",
    "  print('Training process has finished')\n",
    "  # Print about testing\n",
    "  print('Starting testing')\n",
    "  \n",
    "  # Evaluationfor this fold\n",
    "  accuracy = 0\n",
    "  correct = 0\n",
    "  model.eval()\n",
    "  val_loss = []\n",
    "  with torch.no_grad():\n",
    "    # Iterate over the test data and generate predictions\n",
    "    for batch_idx, (data, target) in enumerate(testloader, 0):\n",
    "      # Limiting validation data.\n",
    "      if batch_idx * BATCHSIZE >= N_VALID_EXAMPLES:\n",
    "          break\n",
    "      data, target = data.view(data.size(0), -1).to(DEVICE), target.to(DEVICE)\n",
    "      output = model(data)\n",
    "      # Get the index of the max log-probability.\n",
    "      pred = output.argmax(dim=1, keepdim=True)\n",
    "      correct += pred.eq(target.view_as(pred)).sum().item()\n",
    "\n",
    "    accuracy = correct / min(len(testloader.dataset), N_VALID_EXAMPLES)\n",
    "    # Print accuracy\n",
    "    print('Accuracy for fold %d: %d %%' % (fold, accuracy*100))\n",
    "    print('--------------------------------')\n",
    "    results[fold] = accuracy\n",
    "    \n",
    "# Print fold results\n",
    "print(f'K-FOLD CROSS VALIDATION RESULTS FOR {k_fold} FOLDS')\n",
    "print('--------------------------------')\n",
    "sum = 0.0\n",
    "for key, value in results.items():\n",
    "  print(f'Fold {key}: {value*100} %')\n",
    "  sum += value\n",
    "print(f'Average: {(sum/len(results.items()))*100} %')"
   ]
  },
  {
   "cell_type": "code",
   "execution_count": 63,
   "metadata": {
    "colab": {
     "base_uri": "https://localhost:8080/"
    },
    "id": "P0vGcV1X4bB0",
    "outputId": "d4b1b17a-aa0e-4a0e-b429-e39875319b64"
   },
   "outputs": [
    {
     "name": "stdout",
     "output_type": "stream",
     "text": [
      "odict_keys(['fc1.weight', 'fc1.bias', 'fc2.weight', 'fc2.bias', 'out.weight', 'out.bias'])\n"
     ]
    }
   ],
   "source": [
    "### Save network parameters\n",
    "### Save the network state\n",
    "# The state dictionary includes all the parameters of the network\n",
    "model_state_dict = model.state_dict()\n",
    "print(model_state_dict.keys())\n",
    "# Save the state dict to a file\n",
    "torch.save(model_state_dict, 'Classification_model_parameters.torch')"
   ]
  },
  {
   "cell_type": "code",
   "execution_count": 64,
   "metadata": {
    "colab": {
     "base_uri": "https://localhost:8080/"
    },
    "id": "jzY2FR1h4bIQ",
    "outputId": "07fcc0da-c48f-419f-e8fd-aa466166a8d4"
   },
   "outputs": [
    {
     "name": "stdout",
     "output_type": "stream",
     "text": [
      "Network initialized\n"
     ]
    },
    {
     "data": {
      "text/plain": [
       "<All keys matched successfully>"
      ]
     },
     "execution_count": 64,
     "metadata": {},
     "output_type": "execute_result"
    }
   ],
   "source": [
    "### Reload the network state\n",
    "# First initialize the network (if not already done)\n",
    "# IMPORTANT: you need to know the model definition!!\n",
    "model = Net(Ni, Nh1, Nh2, No).to(DEVICE)\n",
    "# Load the state dict previously saved\n",
    "model_state_dict = torch.load('Classification_model_parameters.torch')\n",
    "# Update the network parameters\n",
    "model.load_state_dict(model_state_dict)"
   ]
  },
  {
   "cell_type": "code",
   "execution_count": 65,
   "metadata": {
    "id": "3VBXhlV24bUe"
   },
   "outputs": [],
   "source": [
    "### Save the optimizer state\n",
    "torch.save(optimizer.state_dict(), 'Classification_optimizer_state.torch')\n",
    "\n",
    "### Reload the optimizer state\n",
    "# optimizer = optim.RMSprop(model.parameters(),lr = lr, weight_decay= weight_decay)"
   ]
  },
  {
   "cell_type": "code",
   "execution_count": 66,
   "metadata": {
    "id": "CzYXUloSPLNd"
   },
   "outputs": [],
   "source": [
    "opt_state_dict = torch.load('Classification_optimizer_state.torch')\n",
    "\n",
    "optimizer.load_state_dict(opt_state_dict)"
   ]
  },
  {
   "cell_type": "markdown",
   "metadata": {
    "id": "eO0SKmCvjVtK"
   },
   "source": [
    "visualization"
   ]
  },
  {
   "cell_type": "code",
   "execution_count": 67,
   "metadata": {
    "colab": {
     "base_uri": "https://localhost:8080/",
     "height": 585
    },
    "id": "rWzFs4l2iAVU",
    "outputId": "dfc4d1d0-861c-4985-98b1-ad28d26bccb6"
   },
   "outputs": [
    {
     "data": {
      "image/png": "[encoded data removed]",
      "text/plain": [
       "<Figure size 864x576 with 3 Axes>"
      ]
     },
     "metadata": {
      "needs_background": "light"
     },
     "output_type": "display_data"
    }
   ],
   "source": [
    "# visualizing the weights histogram\n",
    "\n",
    "# First hidden layer\n",
    "h1_w = net.fc1.weight.data.cpu().numpy()\n",
    "h1_b = net.fc1.bias.data.cpu().numpy()\n",
    "\n",
    "# Second hidden layer\n",
    "h2_w = net.fc2.weight.data.cpu().numpy()\n",
    "h2_b = net.fc2.bias.data.cpu().numpy()\n",
    "\n",
    "# Output layer\n",
    "out_w = net.out.weight.data.cpu().numpy()\n",
    "out_b = net.out.bias.data.cpu().numpy()\n",
    "\n",
    "# Weights histogram\n",
    "fig, axs = plt.subplots(3, 1, figsize=(12,8))\n",
    "axs[0].hist(h1_w.flatten(), 50)\n",
    "axs[0].set_title('First hidden layer weights')\n",
    "axs[1].hist(h2_w.flatten(), 50)\n",
    "axs[1].set_title('Second hidden layer weights')\n",
    "axs[2].hist(out_w.flatten(), 50)\n",
    "axs[2].set_title('Output layer weights')\n",
    "[ax.grid() for ax in axs]\n",
    "plt.tight_layout()\n",
    "plt.show()"
   ]
  },
  {
   "cell_type": "code",
   "execution_count": 68,
   "metadata": {
    "colab": {
     "base_uri": "https://localhost:8080/",
     "height": 441
    },
    "id": "oXVWe9qsPUwU",
    "outputId": "76949492-dc9c-49c3-a901-4cbc3dfd5277"
   },
   "outputs": [
    {
     "data": {
      "image/png": "[encoded data removed]",
      "text/plain": [
       "<Figure size 864x432 with 3 Axes>"
      ]
     },
     "metadata": {
      "needs_background": "light"
     },
     "output_type": "display_data"
    }
   ],
   "source": [
    "# activation analysis\n",
    "\n",
    "def get_activation(layer, input, output):\n",
    "    global activation\n",
    "    activation = F.relu(output)\n",
    "\n",
    "### Register hook  \n",
    "hook_handle = model.fc2.register_forward_hook(get_activation)\n",
    "train_loader, valid_loader = get_mnist()\n",
    "x ,label = next(iter(valid_loader))\n",
    "x1 = x[0].to(DEVICE)\n",
    "x2 = x[5].to(DEVICE)\n",
    "x3 = x[10].to(DEVICE)\n",
    "x1 = x1.view(x1.size(0),-1)\n",
    "x2 = x2.view(x2.size(0),-1)\n",
    "x3 = x3.view(x3.size(0),-1)\n",
    "### Analyze activations\n",
    "\n",
    "model.eval()\n",
    "with torch.no_grad():\n",
    "    \n",
    "    y1 = model(x1)\n",
    "    z1 = activation\n",
    "    \n",
    "    y2 = model(x2)\n",
    "    z2 = activation\n",
    "    \n",
    "    y3 = model(x3)\n",
    "    z3 = activation\n",
    "\n",
    "### Remove hook\n",
    "hook_handle.remove()\n",
    "\n",
    "### Plot activations\n",
    "fig, axs = plt.subplots(3, 1, figsize=(12,6))\n",
    "axs[0].stem(z1.squeeze().cpu().numpy(), use_line_collection=True)\n",
    "axs[0].set_title('Last layer activations for input x1')\n",
    "axs[1].stem(z2.squeeze().cpu().numpy(), use_line_collection=True)\n",
    "axs[1].set_title('Last layer activations for input x2')\n",
    "axs[2].stem(z3.squeeze().cpu().numpy(), use_line_collection=True)\n",
    "axs[2].set_title('Last layer activations for input x3')\n",
    "plt.tight_layout()\n",
    "plt.show()"
   ]
  },
  {
   "cell_type": "code",
   "execution_count": 68,
   "metadata": {
    "id": "dBqG11I6TnZL"
   },
   "outputs": [],
   "source": []
  },
  {
   "cell_type": "markdown",
   "metadata": {
    "id": "KbyabawlkAXv"
   },
   "source": [
    "Classification with CNN"
   ]
  },
  {
   "cell_type": "code",
   "execution_count": 69,
   "metadata": {
    "colab": {
     "base_uri": "https://localhost:8080/"
    },
    "id": "2nkYH0JX3pd7",
    "outputId": "473bb990-7096-4c36-e4e6-3325b7a21774"
   },
   "outputs": [
    {
     "data": {
      "text/plain": [
       "<torch._C.Generator at 0x7fec405c3b30>"
      ]
     },
     "execution_count": 69,
     "metadata": {},
     "output_type": "execute_result"
    }
   ],
   "source": [
    "DEVICE = torch.device(\"cuda\") if torch.cuda.is_available() else torch.device(\"cpu\")\n",
    "BATCHSIZE = 256\n",
    "CLASSES = 10\n",
    "DIR = 'classifier_data'\n",
    "EPOCHS = 20\n",
    "#LOG_INTERVAL = 10\n",
    "#N_TRAIN_EXAMPLES = BATCHSIZE * 30\n",
    "#N_VALID_EXAMPLES = BATCHSIZE * 10\n",
    "torch.manual_seed(0)"
   ]
  },
  {
   "cell_type": "code",
   "execution_count": 70,
   "metadata": {
    "id": "xHnRO3vDMV-S"
   },
   "outputs": [],
   "source": [
    "# CNN model for classification\n",
    "\n",
    "class Net(nn.Module):\n",
    "    \n",
    "    def __init__(self, CLASSES):\n",
    "        super().__init__()\n",
    "        \n",
    "        print('Network initialized')\n",
    "        self.conv1 = nn.Conv2d(in_channels= 1, out_channels= 8, kernel_size= 3, stride= 2, padding= 1)\n",
    "        self.conv2 = nn.Conv2d(in_channels= 8, out_channels= 16, kernel_size= 3, stride= 2, padding= 1)\n",
    "        self.conv3 = nn.Conv2d(in_channels= 16, out_channels= 32, kernel_size= 3, stride= 2, padding= 0)\n",
    "        self.fc1   = nn.Linear(in_features= 32*3*3, out_features= 256)\n",
    "        self.fc2   = nn.Linear(in_features= 256, out_features= 128)\n",
    "        self.fc3   = nn.Linear(in_features= 128, out_features= 64)\n",
    "        self.out   = nn.Linear(in_features= 64, out_features= CLASSES)\n",
    "        self.act   = nn.ReLU(True)\n",
    "        self.drop  = nn.Dropout(p= 0.2)\n",
    "        self.soft  = nn.LogSoftmax(dim= 1)\n",
    "        self.flat  = nn.Flatten(start_dim= 1)\n",
    "        \n",
    "    def forward(self, x):\n",
    "\n",
    "        x = self.drop(self.act(self.conv1(x))) \n",
    "        x = self.drop(self.act(self.conv2(x)))\n",
    "        x = self.drop(self.act(self.conv3(x)))\n",
    "        x = self.flat(x)\n",
    "        x = self.drop(self.act(self.fc1(x)))\n",
    "        x = self.drop(self.act(self.fc2(x)))\n",
    "        x = self.drop(self.act(self.fc3(x)))\n",
    "        x = self.soft(self.out(x))\n",
    "  \n",
    "        return x"
   ]
  },
  {
   "cell_type": "code",
   "execution_count": 71,
   "metadata": {
    "colab": {
     "base_uri": "https://localhost:8080/"
    },
    "id": "wEo0GDS_Gwjp",
    "outputId": "5087d091-9e29-492f-e255-e5ae139c5a92"
   },
   "outputs": [
    {
     "name": "stdout",
     "output_type": "stream",
     "text": [
      "Network initialized\n"
     ]
    }
   ],
   "source": [
    "# initialization of the network\n",
    "\n",
    "CLASSES = 10\n",
    "\n",
    "model = Net(CLASSES = CLASSES)\n",
    "\n",
    "# Define the loss\n",
    "loss_fn = nn.NLLLoss()\n",
    "\n",
    "# Define the optimizer\n",
    "optimizer = optim.Adam(model.parameters(), lr = 1e-3, weight_decay= 1e-4)"
   ]
  },
  {
   "cell_type": "code",
   "execution_count": 72,
   "metadata": {
    "colab": {
     "base_uri": "https://localhost:8080/"
    },
    "id": "50Bwa0IKiAwP",
    "outputId": "4e7a528e-a491-49e7-fa30-d08664f35422"
   },
   "outputs": [
    {
     "name": "stdout",
     "output_type": "stream",
     "text": [
      "--------------------------------\n",
      "Fold 0\n",
      "--------------------------------\n",
      "Training process has finished\n",
      "Starting testing\n",
      "Accuracy for fold 0: 75 %\n",
      "--------------------------------\n",
      "Fold 1\n",
      "--------------------------------\n",
      "Training process has finished\n",
      "Starting testing\n",
      "Accuracy for fold 1: 85 %\n",
      "--------------------------------\n",
      "Fold 2\n",
      "--------------------------------\n",
      "Training process has finished\n",
      "Starting testing\n",
      "Accuracy for fold 2: 85 %\n",
      "--------------------------------\n",
      "Fold 3\n",
      "--------------------------------\n",
      "Training process has finished\n",
      "Starting testing\n",
      "Accuracy for fold 3: 87 %\n",
      "--------------------------------\n",
      "Fold 4\n",
      "--------------------------------\n",
      "Training process has finished\n",
      "Starting testing\n",
      "Accuracy for fold 4: 87 %\n",
      "--------------------------------\n",
      "Fold 5\n",
      "--------------------------------\n",
      "Training process has finished\n",
      "Starting testing\n",
      "Accuracy for fold 5: 88 %\n",
      "--------------------------------\n",
      "Fold 6\n",
      "--------------------------------\n",
      "Training process has finished\n",
      "Starting testing\n",
      "Accuracy for fold 6: 88 %\n",
      "--------------------------------\n",
      "Fold 7\n",
      "--------------------------------\n",
      "Training process has finished\n",
      "Starting testing\n",
      "Accuracy for fold 7: 90 %\n",
      "--------------------------------\n",
      "Fold 8\n",
      "--------------------------------\n",
      "Training process has finished\n",
      "Starting testing\n",
      "Accuracy for fold 8: 89 %\n",
      "--------------------------------\n",
      "Fold 9\n",
      "--------------------------------\n",
      "Training process has finished\n",
      "Starting testing\n",
      "Accuracy for fold 9: 90 %\n",
      "--------------------------------\n",
      "K-FOLD CROSS VALIDATION RESULTS FOR 10 FOLDS\n",
      "--------------------------------\n",
      "Fold 0: 75.3515625 %\n",
      "Fold 1: 85.2734375 %\n",
      "Fold 2: 85.3515625 %\n",
      "Fold 3: 87.7734375 %\n",
      "Fold 4: 87.421875 %\n",
      "Fold 5: 88.515625 %\n",
      "Fold 6: 88.671875 %\n",
      "Fold 7: 90.0390625 %\n",
      "Fold 8: 89.53125 %\n",
      "Fold 9: 90.3515625 %\n",
      "Average: 86.82812500000001 %\n"
     ]
    }
   ],
   "source": [
    "# Finding the accuracy of CNN with K_Fold Cross Validation method\n",
    "\n",
    "k_fold = 10\n",
    "num_epochs = 10\n",
    "BATCHSIZE = 256\n",
    "# for Fold results\n",
    "results = {}\n",
    "torch.manual_seed(0)\n",
    "\n",
    "dataset_train_part = torchvision.datasets.FashionMNIST(DIR, download=True, train=True, transform=transforms.ToTensor())\n",
    "dataset_test_part = torchvision.datasets.FashionMNIST(DIR, download=True, train=False, transform=transforms.ToTensor())\n",
    "dataset = ConcatDataset([dataset_train_part, dataset_test_part])\n",
    "\n",
    "# define KFold cross_validation\n",
    "kfold = KFold(n_splits=k_fold, shuffle=True)\n",
    "\n",
    "#start print\n",
    "print('--------------------------------')\n",
    "\n",
    "# kfold cross validatio model evaluation\n",
    "for fold, (train_ids, test_ids) in enumerate(kfold.split(dataset)):\n",
    "\n",
    "  print(f'Fold {fold}')\n",
    "  print('--------------------------------')\n",
    "\n",
    "\n",
    "  # Sample elements randomly from a given list of ids, no replacement.\n",
    "  train_subsampler = torch.utils.data.SubsetRandomSampler(train_ids)\n",
    "  test_subsampler = torch.utils.data.SubsetRandomSampler(test_ids)\n",
    "\n",
    "  # Define data loaders for training and testing data in this fold\n",
    "  trainloader = torch.utils.data.DataLoader(\n",
    "                    dataset, \n",
    "                    batch_size=BATCHSIZE, sampler=train_subsampler,\n",
    "                    num_workers= 2)\n",
    "  testloader = torch.utils.data.DataLoader(\n",
    "                    dataset,\n",
    "                    batch_size=BATCHSIZE, sampler=test_subsampler,\n",
    "                    num_workers= 2)\n",
    "  \n",
    "  for epoch in range(0, num_epochs):\n",
    "\n",
    "      # Print epoch\n",
    "      #print(f'Starting epoch {epoch+1}')\n",
    "\n",
    "      # Set current loss value\n",
    "      current_loss = 0.0\n",
    "\n",
    "      # Iterate over the DataLoader for training data\n",
    "      for batch_idx, (data, target) in enumerate(trainloader, 0):\n",
    "        # Limiting training data for faster epochs.\n",
    "        if batch_idx * BATCHSIZE >= N_TRAIN_EXAMPLES:\n",
    "            break\n",
    "        optimizer.zero_grad()\n",
    "        output = model(data)\n",
    "        loss = F.nll_loss(output, target)\n",
    "        loss.backward()\n",
    "        optimizer.step()\n",
    "        current_loss += loss.item()\n",
    "  # Process is complete.\n",
    "  print('Training process has finished')\n",
    "  # Print about testing\n",
    "  print('Starting testing')\n",
    "  \n",
    "  # Evaluationfor this fold\n",
    "  accuracy = 0\n",
    "  correct = 0\n",
    "  model.eval()\n",
    "  val_loss = []\n",
    "  with torch.no_grad():\n",
    "    # Iterate over the test data and generate predictions\n",
    "    for batch_idx, (data, target) in enumerate(testloader, 0):\n",
    "      # Limiting validation data.\n",
    "      if batch_idx * BATCHSIZE >= N_VALID_EXAMPLES:\n",
    "          break\n",
    "      output = model(data)\n",
    "      # Get the index of the max log-probability.\n",
    "      pred = output.argmax(dim=1, keepdim=True)\n",
    "      correct += pred.eq(target.view_as(pred)).sum().item()\n",
    "\n",
    "    accuracy = correct / min(len(testloader.dataset), N_VALID_EXAMPLES)\n",
    "    # Print accuracy\n",
    "    print('Accuracy for fold %d: %d %%' % (fold, accuracy*100))\n",
    "    print('--------------------------------')\n",
    "    results[fold] = accuracy\n",
    "    \n",
    "# Print fold results\n",
    "print(f'K-FOLD CROSS VALIDATION RESULTS FOR {k_fold} FOLDS')\n",
    "print('--------------------------------')\n",
    "sum = 0.0\n",
    "for key, value in results.items():\n",
    "  print(f'Fold {key}: {value*100} %')\n",
    "  sum += value\n",
    "print(f'Average: {(sum/len(results.items()))*100} %')"
   ]
  },
  {
   "cell_type": "code",
   "execution_count": 73,
   "metadata": {
    "colab": {
     "base_uri": "https://localhost:8080/"
    },
    "id": "r59kZre-DZKa",
    "outputId": "88d2655e-1385-40a7-e43b-2495c8838eb0"
   },
   "outputs": [
    {
     "name": "stdout",
     "output_type": "stream",
     "text": [
      "odict_keys(['conv1.weight', 'conv1.bias', 'conv2.weight', 'conv2.bias', 'conv3.weight', 'conv3.bias', 'fc1.weight', 'fc1.bias', 'fc2.weight', 'fc2.bias', 'fc3.weight', 'fc3.bias', 'out.weight', 'out.bias'])\n"
     ]
    }
   ],
   "source": [
    "### Save network parameters\n",
    "### Save the network state\n",
    "# The state dictionary includes all the parameters of the network\n",
    "model_state_dict = model.state_dict()\n",
    "print(model_state_dict.keys())\n",
    "# Save the state dict to a file\n",
    "torch.save(model_state_dict, 'CNN_model_parameters.torch')"
   ]
  },
  {
   "cell_type": "code",
   "execution_count": 74,
   "metadata": {
    "colab": {
     "base_uri": "https://localhost:8080/"
    },
    "id": "-2DKgLnADeYG",
    "outputId": "b629a67c-7134-4f43-f9f0-ddc90ac40dbc"
   },
   "outputs": [
    {
     "name": "stdout",
     "output_type": "stream",
     "text": [
      "Network initialized\n"
     ]
    },
    {
     "data": {
      "text/plain": [
       "<All keys matched successfully>"
      ]
     },
     "execution_count": 74,
     "metadata": {},
     "output_type": "execute_result"
    }
   ],
   "source": [
    "### Reload the network state\n",
    "# First initialize the network (if not already done)\n",
    "# IMPORTANT: you need to know the model definition!!\n",
    "model = Net(CLASSES = CLASSES).to(DEVICE)\n",
    "# Load the state dict previously saved\n",
    "model_state_dict = torch.load('CNN_model_parameters.torch')\n",
    "# Update the network parameters\n",
    "model.load_state_dict(model_state_dict)"
   ]
  },
  {
   "cell_type": "code",
   "execution_count": 75,
   "metadata": {
    "id": "uqkQQa9SDeb-"
   },
   "outputs": [],
   "source": [
    "### Save the optimizer state\n",
    "torch.save(optimizer.state_dict(), 'CNN_optimizer_state.torch')\n",
    "\n",
    "### Reload the optimizer state\n",
    "#optimizer = optim.Adam(model.parameters(), lr = 1e-3, weight_decay= 1e-4)"
   ]
  },
  {
   "cell_type": "code",
   "execution_count": 76,
   "metadata": {
    "id": "sBEg634ODee2"
   },
   "outputs": [],
   "source": [
    "opt_state_dict = torch.load('CNN_optimizer_state.torch')\n",
    "\n",
    "optimizer.load_state_dict(opt_state_dict)"
   ]
  },
  {
   "cell_type": "markdown",
   "metadata": {
    "id": "zyqwaSJhus99"
   },
   "source": [
    "Visualizing Filters"
   ]
  },
  {
   "cell_type": "code",
   "execution_count": 77,
   "metadata": {
    "colab": {
     "base_uri": "https://localhost:8080/",
     "height": 269
    },
    "id": "i9S1Y-NAUh7T",
    "outputId": "153e5f4d-2153-42ee-8673-3ae86aec3ab2"
   },
   "outputs": [
    {
     "name": "stdout",
     "output_type": "stream",
     "text": [
      "3\n"
     ]
    },
    {
     "data": {
      "image/png": "[encoded data removed]",
      "text/plain": [
       "<Figure size 432x288 with 24 Axes>"
      ]
     },
     "metadata": {},
     "output_type": "display_data"
    }
   ],
   "source": [
    "weights = model.conv1.weight.detach().cpu().numpy()\n",
    "bias = model.conv1.bias.detach().cpu().numpy()\n",
    "#normalize filter values between  0 and 1 for visualization\n",
    "f_min, f_max = weights.min(), weights.max()\n",
    "filters = (weights - f_min) / (f_max - f_min)  \n",
    "print(filters.shape[3])\n",
    "filter_cnt=1\n",
    "#plotting all the filters\n",
    "for i in range(filters.shape[3]):\n",
    "    #get the filters\n",
    "    filt=filters[:,:,:, i]\n",
    "    #plotting each of the channel, color image RGB channels\n",
    "    for j in range(filters.shape[0]):\n",
    "        ax= plt.subplot(filters.shape[3], filters.shape[0], filter_cnt)\n",
    "        ax.set_xticks([])\n",
    "        ax.set_yticks([])\n",
    "        plt.style.use(\"dark_background\")\n",
    "        plt.imshow(filt[j,:,:],aspect=\"auto\")\n",
    "        filter_cnt+=1\n",
    "plt.show()"
   ]
  },
  {
   "cell_type": "code",
   "execution_count": 78,
   "metadata": {
    "colab": {
     "base_uri": "https://localhost:8080/",
     "height": 269
    },
    "id": "QN5z2Papq9nj",
    "outputId": "42ba96fe-e9d3-4089-bead-08bb4816b055"
   },
   "outputs": [
    {
     "name": "stdout",
     "output_type": "stream",
     "text": [
      "3\n"
     ]
    },
    {
     "data": {
      "image/png": "[encoded data removed]",
      "text/plain": [
       "<Figure size 432x288 with 48 Axes>"
      ]
     },
     "metadata": {},
     "output_type": "display_data"
    }
   ],
   "source": [
    "weights = model.conv2.weight.detach().cpu().numpy()\n",
    "bias = model.conv2.bias.detach().cpu().numpy()\n",
    "#normalize filter values between  0 and 1 for visualization\n",
    "f_min, f_max = weights.min(), weights.max()\n",
    "filters = (weights - f_min) / (f_max - f_min)  \n",
    "print(filters.shape[3])\n",
    "filter_cnt=1\n",
    "#plotting all the filters\n",
    "for i in range(filters.shape[3]):\n",
    "    #get the filters\n",
    "    filt=filters[:,:,:, i]\n",
    "    #plotting each of the channel, color image RGB channels\n",
    "    for j in range(filters.shape[0]):\n",
    "        ax= plt.subplot(filters.shape[3], filters.shape[0], filter_cnt)\n",
    "        ax.set_xticks([])\n",
    "        ax.set_yticks([])\n",
    "        plt.style.use(\"dark_background\")\n",
    "        plt.imshow(filt[j,:,:],aspect=\"auto\")\n",
    "        filter_cnt+=1\n",
    "plt.show()"
   ]
  },
  {
   "cell_type": "code",
   "execution_count": 79,
   "metadata": {
    "colab": {
     "base_uri": "https://localhost:8080/",
     "height": 269
    },
    "id": "Jn0XZHeyrDML",
    "outputId": "c79611ae-e858-4a58-bc91-78fbc1eff822"
   },
   "outputs": [
    {
     "name": "stdout",
     "output_type": "stream",
     "text": [
      "3\n"
     ]
    },
    {
     "data": {
      "image/png": "[encoded data removed]",
      "text/plain": [
       "<Figure size 432x288 with 96 Axes>"
      ]
     },
     "metadata": {},
     "output_type": "display_data"
    }
   ],
   "source": [
    "weights = model.conv3.weight.detach().cpu().numpy()\n",
    "bias = model.conv3.bias.detach().cpu().numpy()\n",
    "#normalize filter values between  0 and 1 for visualization\n",
    "f_min, f_max = weights.min(), weights.max()\n",
    "filters = (weights - f_min) / (f_max - f_min)  \n",
    "print(filters.shape[3])\n",
    "filter_cnt=1\n",
    "#plotting all the filters\n",
    "for i in range(filters.shape[3]):\n",
    "    #get the filters\n",
    "    filt=filters[:,:,:, i]\n",
    "    #plotting each of the channel, color image RGB channels\n",
    "    for j in range(filters.shape[0]):\n",
    "        ax= plt.subplot(filters.shape[3], filters.shape[0], filter_cnt)\n",
    "        ax.set_xticks([])\n",
    "        ax.set_yticks([])\n",
    "        plt.style.use(\"dark_background\")\n",
    "        plt.imshow(filt[j,:,:],aspect=\"auto\")\n",
    "        filter_cnt+=1\n",
    "plt.show()"
   ]
  },
  {
   "cell_type": "markdown",
   "metadata": {
    "id": "H6-0QNz_uyIa"
   },
   "source": [
    "Feature Maps"
   ]
  },
  {
   "cell_type": "code",
   "execution_count": 80,
   "metadata": {
    "colab": {
     "base_uri": "https://localhost:8080/",
     "height": 300
    },
    "id": "gL_9DrW8WTmD",
    "outputId": "4207ccc8-ffa9-4d93-8bef-4f9bd3e7b076"
   },
   "outputs": [
    {
     "name": "stdout",
     "output_type": "stream",
     "text": [
      "torch.Size([1, 1, 28, 28])\n",
      "torch.Size([1])\n"
     ]
    },
    {
     "data": {
      "image/png": "[encoded data removed]",
      "text/plain": [
       "<Figure size 432x288 with 1 Axes>"
      ]
     },
     "metadata": {},
     "output_type": "display_data"
    }
   ],
   "source": [
    "dataloader = DataLoader(torchvision.datasets.FashionMNIST('classifier_data', train=False, download=True, transform=transforms.ToTensor()),\n",
    "                        batch_size= 1, num_workers= 2)\n",
    "\n",
    "data, target = next(iter(dataloader))\n",
    "print(data.shape)\n",
    "print(target.shape)\n",
    "plt.imshow(data.squeeze())\n",
    "plt.show()"
   ]
  },
  {
   "cell_type": "code",
   "execution_count": 81,
   "metadata": {
    "colab": {
     "base_uri": "https://localhost:8080/"
    },
    "id": "-xoxTmuch1mK",
    "outputId": "bfdb77aa-2d1a-4dea-e623-80edd0fe0977"
   },
   "outputs": [
    {
     "data": {
      "text/plain": [
       "Net(\n",
       "  (conv1): Conv2d(1, 8, kernel_size=(3, 3), stride=(2, 2), padding=(1, 1))\n",
       "  (conv2): Conv2d(8, 16, kernel_size=(3, 3), stride=(2, 2), padding=(1, 1))\n",
       "  (conv3): Conv2d(16, 32, kernel_size=(3, 3), stride=(2, 2))\n",
       "  (fc1): Linear(in_features=288, out_features=256, bias=True)\n",
       "  (fc2): Linear(in_features=256, out_features=128, bias=True)\n",
       "  (fc3): Linear(in_features=128, out_features=64, bias=True)\n",
       "  (out): Linear(in_features=64, out_features=10, bias=True)\n",
       "  (act): ReLU(inplace=True)\n",
       "  (drop): Dropout(p=0.2, inplace=False)\n",
       "  (soft): LogSoftmax(dim=1)\n",
       "  (flat): Flatten(start_dim=1, end_dim=-1)\n",
       ")"
      ]
     },
     "execution_count": 81,
     "metadata": {},
     "output_type": "execute_result"
    }
   ],
   "source": [
    "model.to(DEVICE)"
   ]
  },
  {
   "cell_type": "code",
   "execution_count": 82,
   "metadata": {
    "colab": {
     "base_uri": "https://localhost:8080/",
     "height": 267
    },
    "id": "kq1rVF3ECcDq",
    "outputId": "5cf9f323-a3f7-4e0b-bc96-e9e63ef0d1e2"
   },
   "outputs": [
    {
     "data": {
      "image/png": "[encoded data removed]",
      "text/plain": [
       "<Figure size 432x288 with 3 Axes>"
      ]
     },
     "metadata": {},
     "output_type": "display_data"
    }
   ],
   "source": [
    "# Feature map(layer 1)\n",
    "\n",
    "def get_activation(layer, input, output):\n",
    "    global activation\n",
    "    activation = F.relu(output)\n",
    "\n",
    "### Register hook  \n",
    "hook_handle = model.conv1.register_forward_hook(get_activation)\n",
    "\n",
    "\n",
    "x1 = data.to(DEVICE)\n",
    "\n",
    "model.eval()\n",
    "with torch.no_grad():\n",
    "    \n",
    "    y1 = model(x1)\n",
    "    z1 = activation\n",
    "    \n",
    "### Remove hook\n",
    "hook_handle.remove()\n",
    "\n",
    "\n",
    "act1 = z1.squeeze().cpu()\n",
    "fig, axarr = plt.subplots(3)\n",
    "for idx in range(3):\n",
    "    axarr[idx].imshow(act1[idx])"
   ]
  },
  {
   "cell_type": "code",
   "execution_count": 83,
   "metadata": {
    "colab": {
     "base_uri": "https://localhost:8080/",
     "height": 265
    },
    "id": "iGXh3Dc3x1hM",
    "outputId": "e2dc3b19-451a-4fbc-f324-017a0b69822f"
   },
   "outputs": [
    {
     "data": {
      "image/png": "[encoded data removed]",
      "text/plain": [
       "<Figure size 432x288 with 3 Axes>"
      ]
     },
     "metadata": {},
     "output_type": "display_data"
    }
   ],
   "source": [
    "# Feature map(layer 2)\n",
    "\n",
    "def get_activation(layer, input, output):\n",
    "    global activation\n",
    "    activation = F.relu(output)\n",
    "\n",
    "### Register hook  \n",
    "hook_handle = model.conv2.register_forward_hook(get_activation)\n",
    "\n",
    "\n",
    "x1 = data.to(DEVICE)\n",
    "\n",
    "model.eval()\n",
    "with torch.no_grad():\n",
    "    \n",
    "    y1 = model(x1)\n",
    "    z1 = activation\n",
    "    \n",
    "\n",
    "### Remove hook\n",
    "hook_handle.remove()\n",
    "\n",
    "\n",
    "act1 = z1.squeeze().cpu()\n",
    "fig, axarr = plt.subplots(3)\n",
    "for idx in range(3):\n",
    "    axarr[idx].imshow(act1[idx])"
   ]
  },
  {
   "cell_type": "code",
   "execution_count": 84,
   "metadata": {
    "colab": {
     "base_uri": "https://localhost:8080/",
     "height": 265
    },
    "id": "4yGJj3UPC4eM",
    "outputId": "5c0607bb-fc6f-4001-9a72-e80ef5e04062"
   },
   "outputs": [
    {
     "data": {
      "image/png": "[encoded data removed]",
      "text/plain": [
       "<Figure size 432x288 with 3 Axes>"
      ]
     },
     "metadata": {},
     "output_type": "display_data"
    }
   ],
   "source": [
    "# Feature map(layer 3)\n",
    "\n",
    "def get_activation(layer, input, output):\n",
    "    global activation\n",
    "    activation = F.relu(output)\n",
    "\n",
    "### Register hook  \n",
    "hook_handle = model.conv3.register_forward_hook(get_activation)\n",
    "\n",
    "\n",
    "x1 = data.to(DEVICE)\n",
    "\n",
    "model.eval()\n",
    "with torch.no_grad():\n",
    "    \n",
    "    y1 = model(x1)\n",
    "    z1 = activation\n",
    "    \n",
    "\n",
    "### Remove hook\n",
    "hook_handle.remove()\n",
    "\n",
    "\n",
    "act1 = z1.squeeze().cpu()\n",
    "fig, axarr = plt.subplots(3)\n",
    "for idx in range(3):\n",
    "    axarr[idx].imshow(act1[idx])"
   ]
  },
  {
   "cell_type": "code",
   "execution_count": null,
   "metadata": {
    "id": "nuni7MICjPBN"
   },
   "outputs": [],
   "source": []
  }
 ],
 "metadata": {
  "accelerator": "GPU",
  "colab": {
   "collapsed_sections": [],
   "name": "DNN_HW1.ipynb",
   "provenance": []
  },
  "gpuClass": "standard",
  "kernelspec": {
   "display_name": "Python 3 (ipykernel)",
   "language": "python",
   "name": "python3"
  },
  "language_info": {
   "codemirror_mode": {
    "name": "ipython",
    "version": 3
   },
   "file_extension": ".py",
   "mimetype": "text/x-python",
   "name": "python",
   "nbconvert_exporter": "python",
   "pygments_lexer": "ipython3",
   "version": "3.8.8"
  }
 },
 "nbformat": 4,
 "nbformat_minor": 1
}
